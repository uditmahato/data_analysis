{
 "cells": [
  {
   "cell_type": "code",
   "execution_count": 1,
   "id": "3193e8a9",
   "metadata": {},
   "outputs": [],
   "source": [
    "import numpy as np"
   ]
  },
  {
   "cell_type": "code",
   "execution_count": 2,
   "id": "c66c20e4",
   "metadata": {},
   "outputs": [
    {
     "name": "stdout",
     "output_type": "stream",
     "text": [
      "1.56\n"
     ]
    }
   ],
   "source": [
    "import numpy as np\n",
    "np_heights = np.array([[1.75,1.65,1.8,1.5],[1.56,1.70,1.4,1.29],[1.49,1.68,1.3,1.8]])\n",
    "np.sort(np_heights[0])\n",
    "print(np.median(np_heights[:,0]))"
   ]
  },
  {
   "cell_type": "code",
   "execution_count": 15,
   "id": "b2d6bf21",
   "metadata": {},
   "outputs": [
    {
     "name": "stdout",
     "output_type": "stream",
     "text": [
      "[[3 7]\n",
      " [2 6]\n",
      " [1 6]\n",
      " [3 5]]\n",
      "[3 2 1 3]\n",
      "2.25\n"
     ]
    }
   ],
   "source": [
    "import numpy as np\n",
    "costs = np.column_stack(([3, 2, 1, 3], \n",
    "                         [7, 6, 6, 5]))\n",
    "print(costs)\n",
    "print(costs[:,0])\n",
    "\n",
    "mean_costs = np.mean(costs[:,0])\n",
    "print(mean_costs)"
   ]
  },
  {
   "cell_type": "code",
   "execution_count": 17,
   "id": "cbe243ad",
   "metadata": {},
   "outputs": [
    {
     "name": "stdout",
     "output_type": "stream",
     "text": [
      "['a', 'b']\n",
      "['e', 'a', 'b']\n"
     ]
    }
   ],
   "source": [
    "x = [\"e\",\"a\",\"b\"]\n",
    "y = x[1:]\n",
    "print(y)\n",
    "y[0] = \"g\"\n",
    "print(x)"
   ]
  },
  {
   "cell_type": "code",
   "execution_count": 21,
   "id": "6692c69e",
   "metadata": {},
   "outputs": [
    {
     "name": "stdout",
     "output_type": "stream",
     "text": [
      "17\n",
      "12\n"
     ]
    }
   ],
   "source": [
    "a=[16,2,12,9,15,17,10]\n",
    "print(a[-2])\n",
    "print(a[-5])"
   ]
  },
  {
   "cell_type": "code",
   "execution_count": 22,
   "id": "bb41413a",
   "metadata": {},
   "outputs": [
    {
     "name": "stdout",
     "output_type": "stream",
     "text": [
      "[-1, 2, 3]\n"
     ]
    }
   ],
   "source": [
    "x = [1,2,3]\n",
    "y = x\n",
    "y[0] = -1\n",
    "print(x)"
   ]
  },
  {
   "cell_type": "code",
   "execution_count": 28,
   "id": "2d6e17bf",
   "metadata": {},
   "outputs": [
    {
     "name": "stdout",
     "output_type": "stream",
     "text": [
      "[23, 34, 55, -90.0, 3, -22, 1888, 99, 123, 0, 23, 4, 78, 78, 60.5]\n"
     ]
    }
   ],
   "source": [
    "a=[23,34,55,-88.-2,3,-22,1888,99,123,0,23,4,78,78,60.5]\n",
    "print(a)"
   ]
  },
  {
   "cell_type": "code",
   "execution_count": 24,
   "id": "aa4fd43e",
   "metadata": {},
   "outputs": [],
   "source": [
    "a.append(5600)"
   ]
  },
  {
   "cell_type": "code",
   "execution_count": 25,
   "id": "83adefd9",
   "metadata": {},
   "outputs": [
    {
     "data": {
      "text/plain": [
       "[23, 34, 55, -90.0, 3, -22, 1888, 99, 123, 0, 23, 4, 78, 78, 60.5, 5600]"
      ]
     },
     "execution_count": 25,
     "metadata": {},
     "output_type": "execute_result"
    }
   ],
   "source": [
    "a"
   ]
  },
  {
   "cell_type": "code",
   "execution_count": 27,
   "id": "aa78a293",
   "metadata": {},
   "outputs": [],
   "source": [
    "b=[0,99,3]"
   ]
  },
  {
   "cell_type": "code",
   "execution_count": 29,
   "id": "8c408f84",
   "metadata": {},
   "outputs": [
    {
     "data": {
      "text/plain": [
       "[0, 99, 3]"
      ]
     },
     "execution_count": 29,
     "metadata": {},
     "output_type": "execute_result"
    }
   ],
   "source": [
    "a\n",
    "b"
   ]
  },
  {
   "cell_type": "code",
   "execution_count": 30,
   "id": "b69189b2",
   "metadata": {},
   "outputs": [
    {
     "data": {
      "text/plain": [
       "[23, 34, 55, -90.0, 3, -22, 1888, 99, 123, 0, 23, 4, 78, 78, 60.5]"
      ]
     },
     "execution_count": 30,
     "metadata": {},
     "output_type": "execute_result"
    }
   ],
   "source": [
    "a"
   ]
  },
  {
   "cell_type": "code",
   "execution_count": 31,
   "id": "9af645d4",
   "metadata": {},
   "outputs": [],
   "source": [
    "b.clear()"
   ]
  },
  {
   "cell_type": "code",
   "execution_count": 32,
   "id": "53488762",
   "metadata": {},
   "outputs": [
    {
     "data": {
      "text/plain": [
       "[]"
      ]
     },
     "execution_count": 32,
     "metadata": {},
     "output_type": "execute_result"
    }
   ],
   "source": [
    "b"
   ]
  },
  {
   "cell_type": "code",
   "execution_count": 35,
   "id": "34c5d934",
   "metadata": {},
   "outputs": [
    {
     "data": {
      "text/plain": [
       "[23, 34, 55, -90.0, 3, -22, 1888, 99, 123, 0, 23, 4, 78, 78, 60.5]"
      ]
     },
     "execution_count": 35,
     "metadata": {},
     "output_type": "execute_result"
    }
   ],
   "source": [
    "a.copy()"
   ]
  },
  {
   "cell_type": "code",
   "execution_count": 36,
   "id": "631e2fc6",
   "metadata": {},
   "outputs": [
    {
     "data": {
      "text/plain": [
       "[23, 34, 55, -90.0, 3, -22, 1888, 99, 123, 0, 23, 4, 78, 78, 60.5]"
      ]
     },
     "execution_count": 36,
     "metadata": {},
     "output_type": "execute_result"
    }
   ],
   "source": [
    "a"
   ]
  },
  {
   "cell_type": "code",
   "execution_count": 38,
   "id": "553e2cb6",
   "metadata": {},
   "outputs": [
    {
     "data": {
      "text/plain": [
       "2"
      ]
     },
     "execution_count": 38,
     "metadata": {},
     "output_type": "execute_result"
    }
   ],
   "source": [
    "a.count(78)"
   ]
  },
  {
   "cell_type": "code",
   "execution_count": 40,
   "id": "136a2c45",
   "metadata": {},
   "outputs": [],
   "source": [
    "a.extend(b)"
   ]
  },
  {
   "cell_type": "code",
   "execution_count": 41,
   "id": "c38a94dc",
   "metadata": {},
   "outputs": [
    {
     "data": {
      "text/plain": [
       "[23, 34, 55, -90.0, 3, -22, 1888, 99, 123, 0, 23, 4, 78, 78, 60.5]"
      ]
     },
     "execution_count": 41,
     "metadata": {},
     "output_type": "execute_result"
    }
   ],
   "source": [
    "a"
   ]
  },
  {
   "cell_type": "code",
   "execution_count": 42,
   "id": "39c4f5df",
   "metadata": {},
   "outputs": [],
   "source": [
    "b.append(2000)"
   ]
  },
  {
   "cell_type": "code",
   "execution_count": 43,
   "id": "e86171d5",
   "metadata": {},
   "outputs": [],
   "source": [
    "a.extend(b)"
   ]
  },
  {
   "cell_type": "code",
   "execution_count": 44,
   "id": "4c36f2dd",
   "metadata": {},
   "outputs": [
    {
     "data": {
      "text/plain": [
       "[23, 34, 55, -90.0, 3, -22, 1888, 99, 123, 0, 23, 4, 78, 78, 60.5, 2000]"
      ]
     },
     "execution_count": 44,
     "metadata": {},
     "output_type": "execute_result"
    }
   ],
   "source": [
    "a\n"
   ]
  },
  {
   "cell_type": "code",
   "execution_count": 45,
   "id": "0b60d969",
   "metadata": {},
   "outputs": [
    {
     "data": {
      "text/plain": [
       "5"
      ]
     },
     "execution_count": 45,
     "metadata": {},
     "output_type": "execute_result"
    }
   ],
   "source": [
    "a.index(-22)"
   ]
  },
  {
   "cell_type": "code",
   "execution_count": 46,
   "id": "c897d354",
   "metadata": {},
   "outputs": [],
   "source": [
    "a.insert(5,255)"
   ]
  },
  {
   "cell_type": "code",
   "execution_count": 47,
   "id": "92bd0ec8",
   "metadata": {},
   "outputs": [
    {
     "data": {
      "text/plain": [
       "[23, 34, 55, -90.0, 3, 255, -22, 1888, 99, 123, 0, 23, 4, 78, 78, 60.5, 2000]"
      ]
     },
     "execution_count": 47,
     "metadata": {},
     "output_type": "execute_result"
    }
   ],
   "source": [
    "a"
   ]
  },
  {
   "cell_type": "code",
   "execution_count": 48,
   "id": "cdc08df4",
   "metadata": {},
   "outputs": [
    {
     "data": {
      "text/plain": [
       "2000"
      ]
     },
     "execution_count": 48,
     "metadata": {},
     "output_type": "execute_result"
    }
   ],
   "source": [
    "a.pop()"
   ]
  },
  {
   "cell_type": "code",
   "execution_count": 49,
   "id": "ab8ae233",
   "metadata": {},
   "outputs": [
    {
     "data": {
      "text/plain": [
       "[23, 34, 55, -90.0, 3, 255, -22, 1888, 99, 123, 0, 23, 4, 78, 78, 60.5]"
      ]
     },
     "execution_count": 49,
     "metadata": {},
     "output_type": "execute_result"
    }
   ],
   "source": [
    "a\n"
   ]
  },
  {
   "cell_type": "code",
   "execution_count": 51,
   "id": "71d2095c",
   "metadata": {},
   "outputs": [],
   "source": [
    "a.remove(55)"
   ]
  },
  {
   "cell_type": "code",
   "execution_count": 52,
   "id": "f2553237",
   "metadata": {},
   "outputs": [
    {
     "data": {
      "text/plain": [
       "[23, 34, -90.0, 3, 255, -22, 1888, 99, 123, 0, 23, 4, 78, 78, 60.5]"
      ]
     },
     "execution_count": 52,
     "metadata": {},
     "output_type": "execute_result"
    }
   ],
   "source": [
    "a"
   ]
  },
  {
   "cell_type": "code",
   "execution_count": 53,
   "id": "28529299",
   "metadata": {},
   "outputs": [],
   "source": [
    "a.reverse()"
   ]
  },
  {
   "cell_type": "code",
   "execution_count": 54,
   "id": "2f6ecfa0",
   "metadata": {},
   "outputs": [
    {
     "data": {
      "text/plain": [
       "[60.5, 78, 78, 4, 23, 0, 123, 99, 1888, -22, 255, 3, -90.0, 34, 23]"
      ]
     },
     "execution_count": 54,
     "metadata": {},
     "output_type": "execute_result"
    }
   ],
   "source": [
    "a"
   ]
  },
  {
   "cell_type": "code",
   "execution_count": 55,
   "id": "c28467c4",
   "metadata": {},
   "outputs": [],
   "source": [
    "a.sort()"
   ]
  },
  {
   "cell_type": "code",
   "execution_count": 58,
   "id": "0d7c1fd5",
   "metadata": {},
   "outputs": [
    {
     "data": {
      "text/plain": [
       "[-90.0, -22, 0, 3, 4, 23, 23, 34, 60.5, 78, 78, 99, 123, 255, 1888]"
      ]
     },
     "execution_count": 58,
     "metadata": {},
     "output_type": "execute_result"
    }
   ],
   "source": [
    "a"
   ]
  },
  {
   "cell_type": "code",
   "execution_count": 65,
   "id": "b5c82ada",
   "metadata": {},
   "outputs": [
    {
     "data": {
      "text/plain": [
       "[-90.0, -22, 0, 3, 4]"
      ]
     },
     "execution_count": 65,
     "metadata": {},
     "output_type": "execute_result"
    }
   ],
   "source": [
    "a[0:5]"
   ]
  },
  {
   "cell_type": "code",
   "execution_count": 66,
   "id": "e90ed619",
   "metadata": {},
   "outputs": [],
   "source": [
    "a[0]=0"
   ]
  },
  {
   "cell_type": "code",
   "execution_count": 67,
   "id": "bbed72f5",
   "metadata": {},
   "outputs": [
    {
     "data": {
      "text/plain": [
       "[0, -22, 0, 3, 4, 23, 23, 34, 60.5, 78, 78, 99, 123, 255, 1888]"
      ]
     },
     "execution_count": 67,
     "metadata": {},
     "output_type": "execute_result"
    }
   ],
   "source": [
    "a"
   ]
  },
  {
   "cell_type": "code",
   "execution_count": 68,
   "id": "84e06ad3",
   "metadata": {},
   "outputs": [],
   "source": [
    "a[0:3]=[22,222,2222]"
   ]
  },
  {
   "cell_type": "code",
   "execution_count": 69,
   "id": "a73b0b13",
   "metadata": {},
   "outputs": [
    {
     "data": {
      "text/plain": [
       "[22, 222, 2222, 3, 4, 23, 23, 34, 60.5, 78, 78, 99, 123, 255, 1888]"
      ]
     },
     "execution_count": 69,
     "metadata": {},
     "output_type": "execute_result"
    }
   ],
   "source": [
    "a"
   ]
  },
  {
   "cell_type": "code",
   "execution_count": 70,
   "id": "005c9fef",
   "metadata": {},
   "outputs": [
    {
     "data": {
      "text/plain": [
       "[2000]"
      ]
     },
     "execution_count": 70,
     "metadata": {},
     "output_type": "execute_result"
    }
   ],
   "source": [
    "b"
   ]
  },
  {
   "cell_type": "code",
   "execution_count": 71,
   "id": "e4d9ae24",
   "metadata": {},
   "outputs": [],
   "source": [
    "del b"
   ]
  },
  {
   "cell_type": "code",
   "execution_count": 73,
   "id": "5129b807",
   "metadata": {},
   "outputs": [
    {
     "data": {
      "text/plain": [
       "222"
      ]
     },
     "execution_count": 73,
     "metadata": {},
     "output_type": "execute_result"
    }
   ],
   "source": [
    "a.pop(1)"
   ]
  },
  {
   "cell_type": "code",
   "execution_count": 77,
   "id": "490e8bda",
   "metadata": {},
   "outputs": [],
   "source": [
    "a.remove(22)"
   ]
  },
  {
   "cell_type": "code",
   "execution_count": 78,
   "id": "a91266ae",
   "metadata": {},
   "outputs": [
    {
     "data": {
      "text/plain": [
       "[2222, 3, 4, 23, 23, 34, 60.5, 78, 78, 99, 123, 255, 1888]"
      ]
     },
     "execution_count": 78,
     "metadata": {},
     "output_type": "execute_result"
    }
   ],
   "source": [
    "a"
   ]
  },
  {
   "cell_type": "code",
   "execution_count": 81,
   "id": "2dfa657c",
   "metadata": {},
   "outputs": [
    {
     "name": "stdout",
     "output_type": "stream",
     "text": [
      "2222\n",
      "3\n",
      "4\n",
      "23\n",
      "23\n",
      "34\n",
      "60.5\n",
      "78\n",
      "78\n",
      "99\n",
      "123\n",
      "255\n",
      "1888\n"
     ]
    }
   ],
   "source": [
    "for i in a:\n",
    "    print(i)"
   ]
  },
  {
   "cell_type": "code",
   "execution_count": 83,
   "id": "cc658982",
   "metadata": {},
   "outputs": [
    {
     "data": {
      "text/plain": [
       "13"
      ]
     },
     "execution_count": 83,
     "metadata": {},
     "output_type": "execute_result"
    }
   ],
   "source": [
    "len(a)"
   ]
  },
  {
   "cell_type": "code",
   "execution_count": 84,
   "id": "b02e2d24",
   "metadata": {},
   "outputs": [
    {
     "data": {
      "text/plain": [
       "list"
      ]
     },
     "execution_count": 84,
     "metadata": {},
     "output_type": "execute_result"
    }
   ],
   "source": [
    "type(a)"
   ]
  },
  {
   "cell_type": "code",
   "execution_count": 85,
   "id": "8d290073",
   "metadata": {},
   "outputs": [
    {
     "name": "stdout",
     "output_type": "stream",
     "text": [
      "2222\n",
      "3\n",
      "4\n",
      "23\n",
      "23\n",
      "34\n",
      "60.5\n",
      "78\n",
      "78\n",
      "99\n",
      "123\n",
      "255\n",
      "1888\n"
     ]
    }
   ],
   "source": [
    "for i in range(len(a)):\n",
    "    print(a[i])"
   ]
  },
  {
   "cell_type": "code",
   "execution_count": 87,
   "id": "fd1d2fdc",
   "metadata": {},
   "outputs": [
    {
     "name": "stdout",
     "output_type": "stream",
     "text": [
      "1888\n"
     ]
    }
   ],
   "source": [
    "while i<len(a):\n",
    "    print(a[i])\n",
    "    i=i+1"
   ]
  },
  {
   "cell_type": "code",
   "execution_count": 89,
   "id": "4e9622fc",
   "metadata": {},
   "outputs": [],
   "source": [
    "b=(1,2,32,1,2)"
   ]
  },
  {
   "cell_type": "code",
   "execution_count": 90,
   "id": "bfe69a63",
   "metadata": {},
   "outputs": [
    {
     "data": {
      "text/plain": [
       "tuple"
      ]
     },
     "execution_count": 90,
     "metadata": {},
     "output_type": "execute_result"
    }
   ],
   "source": [
    "type(b)"
   ]
  },
  {
   "cell_type": "code",
   "execution_count": 91,
   "id": "9c782b7c",
   "metadata": {},
   "outputs": [],
   "source": [
    "thisset = {\"apple\", \"banana\", \"cherry\", \"apple\"}"
   ]
  },
  {
   "cell_type": "code",
   "execution_count": 92,
   "id": "9242d09a",
   "metadata": {},
   "outputs": [
    {
     "data": {
      "text/plain": [
       "{'apple', 'banana', 'cherry'}"
      ]
     },
     "execution_count": 92,
     "metadata": {},
     "output_type": "execute_result"
    }
   ],
   "source": [
    "thisset"
   ]
  },
  {
   "cell_type": "code",
   "execution_count": 93,
   "id": "d19faec9",
   "metadata": {},
   "outputs": [
    {
     "name": "stdout",
     "output_type": "stream",
     "text": [
      "True\n"
     ]
    }
   ],
   "source": [
    "print('apple' in thisset)"
   ]
  },
  {
   "cell_type": "code",
   "execution_count": 94,
   "id": "5135f978",
   "metadata": {},
   "outputs": [
    {
     "name": "stdout",
     "output_type": "stream",
     "text": [
      "apple\n",
      "cherry\n",
      "banana\n"
     ]
    }
   ],
   "source": [
    "for i in thisset:\n",
    "    print(i)"
   ]
  },
  {
   "cell_type": "code",
   "execution_count": 97,
   "id": "b1ee3c1e",
   "metadata": {},
   "outputs": [],
   "source": [
    "thisset.add('boo')"
   ]
  },
  {
   "cell_type": "code",
   "execution_count": 98,
   "id": "270c3944",
   "metadata": {},
   "outputs": [
    {
     "data": {
      "text/plain": [
       "{'apple', 'banana', 'boo', 'cherry', 'lemomon'}"
      ]
     },
     "execution_count": 98,
     "metadata": {},
     "output_type": "execute_result"
    }
   ],
   "source": [
    "thisset"
   ]
  },
  {
   "cell_type": "code",
   "execution_count": 99,
   "id": "019acbaf",
   "metadata": {},
   "outputs": [],
   "source": [
    "thisset.discard('boo')"
   ]
  },
  {
   "cell_type": "code",
   "execution_count": 100,
   "id": "b87f20ee",
   "metadata": {},
   "outputs": [
    {
     "data": {
      "text/plain": [
       "{'apple', 'banana', 'cherry', 'lemomon'}"
      ]
     },
     "execution_count": 100,
     "metadata": {},
     "output_type": "execute_result"
    }
   ],
   "source": [
    "thisset"
   ]
  },
  {
   "cell_type": "code",
   "execution_count": 101,
   "id": "d97ba6f1",
   "metadata": {},
   "outputs": [
    {
     "data": {
      "text/plain": [
       "{'banana', 'cherry', 'lemomon'}"
      ]
     },
     "execution_count": 101,
     "metadata": {},
     "output_type": "execute_result"
    }
   ],
   "source": [
    "thisset.pop()\n",
    "thisset"
   ]
  },
  {
   "cell_type": "code",
   "execution_count": 102,
   "id": "30284257",
   "metadata": {},
   "outputs": [],
   "source": [
    "set1 = {\"a\", \"b\" , \"c\"}"
   ]
  },
  {
   "cell_type": "code",
   "execution_count": 103,
   "id": "4ce4ee85",
   "metadata": {},
   "outputs": [],
   "source": [
    "dicti = {\n",
    "  \"brand\": \"Ford\",\n",
    "  \"model\": \"Mustang\",\n",
    "  \"year\": 1964\n",
    "}"
   ]
  },
  {
   "cell_type": "code",
   "execution_count": 104,
   "id": "69f8e3c4",
   "metadata": {},
   "outputs": [
    {
     "data": {
      "text/plain": [
       "{'brand': 'Ford', 'model': 'Mustang', 'year': 1964}"
      ]
     },
     "execution_count": 104,
     "metadata": {},
     "output_type": "execute_result"
    }
   ],
   "source": [
    "dicti"
   ]
  },
  {
   "cell_type": "code",
   "execution_count": 107,
   "id": "1417dbf7",
   "metadata": {},
   "outputs": [
    {
     "data": {
      "text/plain": [
       "'Ford'"
      ]
     },
     "execution_count": 107,
     "metadata": {},
     "output_type": "execute_result"
    }
   ],
   "source": [
    "dicti['brand']"
   ]
  },
  {
   "cell_type": "code",
   "execution_count": 108,
   "id": "9247ec50",
   "metadata": {},
   "outputs": [
    {
     "data": {
      "text/plain": [
       "dict_keys(['brand', 'model', 'year'])"
      ]
     },
     "execution_count": 108,
     "metadata": {},
     "output_type": "execute_result"
    }
   ],
   "source": [
    "dicti.keys()"
   ]
  },
  {
   "cell_type": "code",
   "execution_count": 109,
   "id": "84bab4cb",
   "metadata": {},
   "outputs": [
    {
     "data": {
      "text/plain": [
       "dict_values(['Ford', 'Mustang', 1964])"
      ]
     },
     "execution_count": 109,
     "metadata": {},
     "output_type": "execute_result"
    }
   ],
   "source": [
    "dicti.values()"
   ]
  },
  {
   "cell_type": "code",
   "execution_count": 110,
   "id": "3536949f",
   "metadata": {},
   "outputs": [
    {
     "data": {
      "text/plain": [
       "dict_items([('brand', 'Ford'), ('model', 'Mustang'), ('year', 1964)])"
      ]
     },
     "execution_count": 110,
     "metadata": {},
     "output_type": "execute_result"
    }
   ],
   "source": [
    "dicti.items()"
   ]
  },
  {
   "cell_type": "code",
   "execution_count": 111,
   "id": "0ea84553",
   "metadata": {},
   "outputs": [],
   "source": [
    "x=dicti.copy()"
   ]
  },
  {
   "cell_type": "code",
   "execution_count": 112,
   "id": "6f8274cf",
   "metadata": {},
   "outputs": [
    {
     "data": {
      "text/plain": [
       "{'brand': 'Ford', 'model': 'Mustang', 'year': 1964}"
      ]
     },
     "execution_count": 112,
     "metadata": {},
     "output_type": "execute_result"
    }
   ],
   "source": [
    "x"
   ]
  },
  {
   "cell_type": "code",
   "execution_count": 115,
   "id": "36c3110d",
   "metadata": {},
   "outputs": [
    {
     "data": {
      "text/plain": [
       "{'F': None, 'o': None, 'r': None, 'd': None}"
      ]
     },
     "execution_count": 115,
     "metadata": {},
     "output_type": "execute_result"
    }
   ],
   "source": [
    "dicti.fromkeys('Ford')"
   ]
  },
  {
   "cell_type": "code",
   "execution_count": 116,
   "id": "b4e45b02",
   "metadata": {},
   "outputs": [],
   "source": [
    "ax=(1,2,3)"
   ]
  },
  {
   "cell_type": "code",
   "execution_count": 117,
   "id": "be7df18f",
   "metadata": {},
   "outputs": [],
   "source": [
    "ay=('a','b','c')"
   ]
  },
  {
   "cell_type": "code",
   "execution_count": 118,
   "id": "ddd51953",
   "metadata": {},
   "outputs": [
    {
     "data": {
      "text/plain": [
       "{1: ('a', 'b', 'c'), 2: ('a', 'b', 'c'), 3: ('a', 'b', 'c')}"
      ]
     },
     "execution_count": 118,
     "metadata": {},
     "output_type": "execute_result"
    }
   ],
   "source": [
    "dicti.fromkeys(ax,ay)"
   ]
  },
  {
   "cell_type": "code",
   "execution_count": 119,
   "id": "ae74ba3e",
   "metadata": {},
   "outputs": [
    {
     "data": {
      "text/plain": [
       "{'brand': 'Ford', 'model': 'Mustang', 'year': 1964}"
      ]
     },
     "execution_count": 119,
     "metadata": {},
     "output_type": "execute_result"
    }
   ],
   "source": [
    "dicti"
   ]
  },
  {
   "cell_type": "code",
   "execution_count": 121,
   "id": "792e735d",
   "metadata": {},
   "outputs": [
    {
     "data": {
      "text/plain": [
       "'Ford'"
      ]
     },
     "execution_count": 121,
     "metadata": {},
     "output_type": "execute_result"
    }
   ],
   "source": [
    "dicti.get('brand')"
   ]
  },
  {
   "cell_type": "code",
   "execution_count": 125,
   "id": "e083ee1e",
   "metadata": {},
   "outputs": [
    {
     "name": "stdout",
     "output_type": "stream",
     "text": [
      "0\n",
      "1\n",
      "2\n"
     ]
    }
   ],
   "source": [
    "for x in [0, 1, 2]:\n",
    "  print(x)"
   ]
  },
  {
   "cell_type": "code",
   "execution_count": null,
   "id": "92d5d173",
   "metadata": {},
   "outputs": [],
   "source": []
  }
 ],
 "metadata": {
  "kernelspec": {
   "display_name": "Python 3",
   "language": "python",
   "name": "python3"
  },
  "language_info": {
   "codemirror_mode": {
    "name": "ipython",
    "version": 3
   },
   "file_extension": ".py",
   "mimetype": "text/x-python",
   "name": "python",
   "nbconvert_exporter": "python",
   "pygments_lexer": "ipython3",
   "version": "3.8.8"
  }
 },
 "nbformat": 4,
 "nbformat_minor": 5
}
