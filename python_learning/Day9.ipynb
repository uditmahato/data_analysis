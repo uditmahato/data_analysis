{
 "cells": [
  {
   "cell_type": "code",
   "execution_count": 2,
   "id": "01c6b775",
   "metadata": {},
   "outputs": [
    {
     "data": {
      "text/plain": [
       "datetime.datetime(2022, 3, 29, 20, 38, 17, 232917)"
      ]
     },
     "execution_count": 2,
     "metadata": {},
     "output_type": "execute_result"
    }
   ],
   "source": [
    "#date and time\n",
    "import datetime\n",
    "x=datetime.datetime.now()\n",
    "x"
   ]
  },
  {
   "cell_type": "code",
   "execution_count": 3,
   "id": "ca79a11a",
   "metadata": {},
   "outputs": [
    {
     "data": {
      "text/plain": [
       "2022"
      ]
     },
     "execution_count": 3,
     "metadata": {},
     "output_type": "execute_result"
    }
   ],
   "source": [
    "#incase we just want to know the year\n",
    "x.year"
   ]
  },
  {
   "cell_type": "code",
   "execution_count": 5,
   "id": "d754255f",
   "metadata": {},
   "outputs": [
    {
     "data": {
      "text/plain": [
       "'Tuesday'"
      ]
     },
     "execution_count": 5,
     "metadata": {},
     "output_type": "execute_result"
    }
   ],
   "source": [
    "#formatting date and time into readable string\n",
    "x.strftime(\"%a\")\n"
   ]
  },
  {
   "cell_type": "code",
   "execution_count": 6,
   "id": "61edd5ef",
   "metadata": {},
   "outputs": [
    {
     "data": {
      "text/plain": [
       "'Tuesday'"
      ]
     },
     "execution_count": 6,
     "metadata": {},
     "output_type": "execute_result"
    }
   ],
   "source": [
    "x.strftime(\"%A\")"
   ]
  },
  {
   "cell_type": "code",
   "execution_count": 7,
   "id": "028c3f94",
   "metadata": {},
   "outputs": [
    {
     "data": {
      "text/plain": [
       "'March'"
      ]
     },
     "execution_count": 7,
     "metadata": {},
     "output_type": "execute_result"
    }
   ],
   "source": [
    "x.strftime(\"%B\")"
   ]
  },
  {
   "cell_type": "code",
   "execution_count": 8,
   "id": "8cb9011e",
   "metadata": {},
   "outputs": [
    {
     "data": {
      "text/plain": [
       "'Mar'"
      ]
     },
     "execution_count": 8,
     "metadata": {},
     "output_type": "execute_result"
    }
   ],
   "source": [
    "x.strftime(\"%b\")"
   ]
  },
  {
   "cell_type": "code",
   "execution_count": 9,
   "id": "397fcba1",
   "metadata": {},
   "outputs": [
    {
     "data": {
      "text/plain": [
       "'2'"
      ]
     },
     "execution_count": 9,
     "metadata": {},
     "output_type": "execute_result"
    }
   ],
   "source": [
    "x.strftime(\"%w\")"
   ]
  },
  {
   "cell_type": "code",
   "execution_count": 10,
   "id": "ca56e4fa",
   "metadata": {},
   "outputs": [
    {
     "data": {
      "text/plain": [
       "'29'"
      ]
     },
     "execution_count": 10,
     "metadata": {},
     "output_type": "execute_result"
    }
   ],
   "source": [
    "x.strftime(\"%d\")"
   ]
  },
  {
   "cell_type": "code",
   "execution_count": 11,
   "id": "1d226b4a",
   "metadata": {},
   "outputs": [
    {
     "data": {
      "text/plain": [
       "'22'"
      ]
     },
     "execution_count": 11,
     "metadata": {},
     "output_type": "execute_result"
    }
   ],
   "source": [
    "x.strftime(\"%y\")"
   ]
  },
  {
   "cell_type": "code",
   "execution_count": 12,
   "id": "38191f55",
   "metadata": {},
   "outputs": [
    {
     "data": {
      "text/plain": [
       "'PM'"
      ]
     },
     "execution_count": 12,
     "metadata": {},
     "output_type": "execute_result"
    }
   ],
   "source": [
    "x.strftime(\"%p\")"
   ]
  },
  {
   "cell_type": "code",
   "execution_count": 13,
   "id": "dc1e0bc3",
   "metadata": {},
   "outputs": [
    {
     "data": {
      "text/plain": [
       "'13'"
      ]
     },
     "execution_count": 13,
     "metadata": {},
     "output_type": "execute_result"
    }
   ],
   "source": [
    "x.strftime(\"%V\")"
   ]
  },
  {
   "cell_type": "code",
   "execution_count": 14,
   "id": "11d3f414",
   "metadata": {},
   "outputs": [
    {
     "data": {
      "text/plain": [
       "'%v'"
      ]
     },
     "execution_count": 14,
     "metadata": {},
     "output_type": "execute_result"
    }
   ],
   "source": [
    "x.strftime(\"%v\")"
   ]
  },
  {
   "cell_type": "markdown",
   "id": "40d9e50a",
   "metadata": {},
   "source": [
    "# try and except\n"
   ]
  },
  {
   "cell_type": "code",
   "execution_count": null,
   "id": "fcf2a0cd",
   "metadata": {},
   "outputs": [],
   "source": [
    "try:\n",
    "    string"
   ]
  }
 ],
 "metadata": {
  "kernelspec": {
   "display_name": "Python 3",
   "language": "python",
   "name": "python3"
  },
  "language_info": {
   "codemirror_mode": {
    "name": "ipython",
    "version": 3
   },
   "file_extension": ".py",
   "mimetype": "text/x-python",
   "name": "python",
   "nbconvert_exporter": "python",
   "pygments_lexer": "ipython3",
   "version": "3.8.8"
  }
 },
 "nbformat": 4,
 "nbformat_minor": 5
}
