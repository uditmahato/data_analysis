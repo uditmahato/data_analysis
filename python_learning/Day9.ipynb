{
 "cells": [
  {
   "cell_type": "code",
   "execution_count": 2,
   "id": "99d9c526",
   "metadata": {},
   "outputs": [
    {
     "data": {
      "text/plain": [
       "datetime.datetime(2022, 3, 29, 20, 38, 17, 232917)"
      ]
     },
     "execution_count": 2,
     "metadata": {},
     "output_type": "execute_result"
    }
   ],
   "source": [
    "#date and time\n",
    "import datetime\n",
    "x=datetime.datetime.now()\n",
    "x"
   ]
  },
  {
   "cell_type": "code",
   "execution_count": 3,
   "id": "dcceb047",
   "metadata": {},
   "outputs": [
    {
     "data": {
      "text/plain": [
       "2022"
      ]
     },
     "execution_count": 3,
     "metadata": {},
     "output_type": "execute_result"
    }
   ],
   "source": [
    "#incase we just want to know the year\n",
    "x.year"
   ]
  },
  {
   "cell_type": "code",
   "execution_count": 5,
   "id": "c648c771",
   "metadata": {},
   "outputs": [
    {
     "data": {
      "text/plain": [
       "'Tuesday'"
      ]
     },
     "execution_count": 5,
     "metadata": {},
     "output_type": "execute_result"
    }
   ],
   "source": [
    "#formatting date and time into readable string\n",
    "x.strftime(\"%a\")\n"
   ]
  },
  {
   "cell_type": "code",
   "execution_count": 6,
   "id": "aa6badfb",
   "metadata": {},
   "outputs": [
    {
     "data": {
      "text/plain": [
       "'Tuesday'"
      ]
     },
     "execution_count": 6,
     "metadata": {},
     "output_type": "execute_result"
    }
   ],
   "source": [
    "x.strftime(\"%A\")"
   ]
  },
  {
   "cell_type": "code",
   "execution_count": 7,
   "id": "426496cc",
   "metadata": {},
   "outputs": [
    {
     "data": {
      "text/plain": [
       "'March'"
      ]
     },
     "execution_count": 7,
     "metadata": {},
     "output_type": "execute_result"
    }
   ],
   "source": [
    "x.strftime(\"%B\")"
   ]
  },
  {
   "cell_type": "code",
   "execution_count": 8,
   "id": "c4bc2f01",
   "metadata": {},
   "outputs": [
    {
     "data": {
      "text/plain": [
       "'Mar'"
      ]
     },
     "execution_count": 8,
     "metadata": {},
     "output_type": "execute_result"
    }
   ],
   "source": [
    "x.strftime(\"%b\")"
   ]
  },
  {
   "cell_type": "code",
   "execution_count": 9,
   "id": "d22d8896",
   "metadata": {},
   "outputs": [
    {
     "data": {
      "text/plain": [
       "'2'"
      ]
     },
     "execution_count": 9,
     "metadata": {},
     "output_type": "execute_result"
    }
   ],
   "source": [
    "x.strftime(\"%w\")"
   ]
  },
  {
   "cell_type": "code",
   "execution_count": 10,
   "id": "c195dca4",
   "metadata": {},
   "outputs": [
    {
     "data": {
      "text/plain": [
       "'29'"
      ]
     },
     "execution_count": 10,
     "metadata": {},
     "output_type": "execute_result"
    }
   ],
   "source": [
    "x.strftime(\"%d\")"
   ]
  },
  {
   "cell_type": "code",
   "execution_count": 11,
   "id": "7b02b44a",
   "metadata": {},
   "outputs": [
    {
     "data": {
      "text/plain": [
       "'22'"
      ]
     },
     "execution_count": 11,
     "metadata": {},
     "output_type": "execute_result"
    }
   ],
   "source": [
    "x.strftime(\"%y\")"
   ]
  },
  {
   "cell_type": "code",
   "execution_count": 12,
   "id": "b27851cd",
   "metadata": {},
   "outputs": [
    {
     "data": {
      "text/plain": [
       "'PM'"
      ]
     },
     "execution_count": 12,
     "metadata": {},
     "output_type": "execute_result"
    }
   ],
   "source": [
    "x.strftime(\"%p\")"
   ]
  },
  {
   "cell_type": "code",
   "execution_count": 13,
   "id": "ca9d1807",
   "metadata": {},
   "outputs": [
    {
     "data": {
      "text/plain": [
       "'13'"
      ]
     },
     "execution_count": 13,
     "metadata": {},
     "output_type": "execute_result"
    }
   ],
   "source": [
    "x.strftime(\"%V\")"
   ]
  },
  {
   "cell_type": "code",
   "execution_count": 14,
   "id": "957a6b47",
   "metadata": {},
   "outputs": [
    {
     "data": {
      "text/plain": [
       "'%v'"
      ]
     },
     "execution_count": 14,
     "metadata": {},
     "output_type": "execute_result"
    }
   ],
   "source": [
    "x.strftime(\"%v\")"
   ]
  },
  {
   "cell_type": "markdown",
   "id": "a7ace8d2",
   "metadata": {},
   "source": [
    "# try and except\n"
   ]
  },
  {
   "cell_type": "code",
   "execution_count": 18,
   "id": "d96fdfe5",
   "metadata": {
    "scrolled": true
   },
   "outputs": [
    {
     "name": "stdout",
     "output_type": "stream",
     "text": [
      "1.0\n"
     ]
    }
   ],
   "source": [
    "#try:execute certain code\n",
    "#excepetion:handles error\n",
    "try:\n",
    "    s=\"Fuckers\"\n",
    "    print(5/5)\n",
    "except:\n",
    "    print(\"There is something error\")"
   ]
  },
  {
   "cell_type": "code",
   "execution_count": 17,
   "id": "b4b4cec5",
   "metadata": {},
   "outputs": [
    {
     "name": "stdout",
     "output_type": "stream",
     "text": [
      "1.0\n",
      "Hello,we have crossed the exception\n"
     ]
    }
   ],
   "source": [
    "#used try except and else\n",
    "\n",
    "#else:prints if it has no error\n",
    "\n",
    "\n",
    "try:\n",
    "    s=\"Fuckers\"\n",
    "    print(5/5)\n",
    "except:\n",
    "    print(\"There is something error\")\n",
    "else:\n",
    "    print(\"Hello,we have crossed the exception\")"
   ]
  },
  {
   "cell_type": "code",
   "execution_count": null,
   "id": "055531a0",
   "metadata": {},
   "outputs": [],
   "source": []
  }
 ],
 "metadata": {
  "kernelspec": {
   "display_name": "Python 3",
   "language": "python",
   "name": "python3"
  },
  "language_info": {
   "codemirror_mode": {
    "name": "ipython",
    "version": 3
   },
   "file_extension": ".py",
   "mimetype": "text/x-python",
   "name": "python",
   "nbconvert_exporter": "python",
   "pygments_lexer": "ipython3",
   "version": "3.8.8"
  }
 },
 "nbformat": 4,
 "nbformat_minor": 5
}
