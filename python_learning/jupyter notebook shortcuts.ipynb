{
 "cells": [
  {
   "cell_type": "code",
   "execution_count": 1,
   "id": "a318d5ac",
   "metadata": {},
   "outputs": [
    {
     "name": "stdout",
     "output_type": "stream",
     "text": [
      "Requirement already satisfied: seaborn in /home/udit/anaconda3/lib/python3.8/site-packages (0.11.1)\n",
      "Requirement already satisfied: numpy>=1.15 in /home/udit/anaconda3/lib/python3.8/site-packages (from seaborn) (1.20.1)\n",
      "Requirement already satisfied: pandas>=0.23 in /home/udit/anaconda3/lib/python3.8/site-packages (from seaborn) (1.2.4)\n",
      "Requirement already satisfied: scipy>=1.0 in /home/udit/anaconda3/lib/python3.8/site-packages (from seaborn) (1.6.2)\n",
      "Requirement already satisfied: matplotlib>=2.2 in /home/udit/anaconda3/lib/python3.8/site-packages (from seaborn) (3.3.4)\n",
      "Requirement already satisfied: kiwisolver>=1.0.1 in /home/udit/anaconda3/lib/python3.8/site-packages (from matplotlib>=2.2->seaborn) (1.3.1)\n",
      "Requirement already satisfied: pyparsing!=2.0.4,!=2.1.2,!=2.1.6,>=2.0.3 in /home/udit/.local/lib/python3.8/site-packages (from matplotlib>=2.2->seaborn) (3.0.8)\n",
      "Requirement already satisfied: pillow>=6.2.0 in /home/udit/anaconda3/lib/python3.8/site-packages (from matplotlib>=2.2->seaborn) (8.2.0)\n",
      "Requirement already satisfied: python-dateutil>=2.1 in /home/udit/.local/lib/python3.8/site-packages (from matplotlib>=2.2->seaborn) (2.8.2)\n",
      "Requirement already satisfied: cycler>=0.10 in /home/udit/anaconda3/lib/python3.8/site-packages (from matplotlib>=2.2->seaborn) (0.10.0)\n",
      "Requirement already satisfied: six in /home/udit/anaconda3/lib/python3.8/site-packages (from cycler>=0.10->matplotlib>=2.2->seaborn) (1.15.0)\n",
      "Requirement already satisfied: pytz>=2017.3 in /home/udit/anaconda3/lib/python3.8/site-packages (from pandas>=0.23->seaborn) (2021.1)\n"
     ]
    }
   ],
   "source": [
    "!pip install seaborn"
   ]
  },
  {
   "cell_type": "code",
   "execution_count": 2,
   "id": "bf5c78c6",
   "metadata": {},
   "outputs": [
    {
     "name": "stdout",
     "output_type": "stream",
     "text": [
      " addition.ipynb      Day14.ipynb   Day6.ipynb\r\n",
      " addition.py\t     day16.ipynb   Day7.ipynb\r\n",
      " datastructure.txt   Day1.ipynb    Day8.ipynb\r\n",
      " Day10.ipynb\t     Day2.ipynb    Day9.ipynb\r\n",
      " Day11.ipynb\t     Day3.ipynb    exercise-booleans-and-conditionals.ipynb\r\n",
      " Day12.ipynb\t     Day4.ipynb   'jupyter notebook shortcuts.ipynb'\r\n",
      " Day13.ipynb\t     Day5.ipynb    __pycache__\r\n"
     ]
    }
   ],
   "source": [
    "!ls"
   ]
  },
  {
   "cell_type": "code",
   "execution_count": 4,
   "id": "2e595053",
   "metadata": {},
   "outputs": [
    {
     "name": "stdout",
     "output_type": "stream",
     "text": [
      "Requirement already satisfied: seaborn in /home/udit/anaconda3/lib/python3.8/site-packages (0.11.1)\n",
      "Requirement already satisfied: matplotlib>=2.2 in /home/udit/anaconda3/lib/python3.8/site-packages (from seaborn) (3.3.4)\n",
      "Requirement already satisfied: numpy>=1.15 in /home/udit/anaconda3/lib/python3.8/site-packages (from seaborn) (1.20.1)\n",
      "Requirement already satisfied: scipy>=1.0 in /home/udit/anaconda3/lib/python3.8/site-packages (from seaborn) (1.6.2)\n",
      "Requirement already satisfied: pandas>=0.23 in /home/udit/anaconda3/lib/python3.8/site-packages (from seaborn) (1.2.4)\n",
      "Requirement already satisfied: python-dateutil>=2.1 in /home/udit/.local/lib/python3.8/site-packages (from matplotlib>=2.2->seaborn) (2.8.2)\n",
      "Requirement already satisfied: pyparsing!=2.0.4,!=2.1.2,!=2.1.6,>=2.0.3 in /home/udit/.local/lib/python3.8/site-packages (from matplotlib>=2.2->seaborn) (3.0.8)\n",
      "Requirement already satisfied: cycler>=0.10 in /home/udit/anaconda3/lib/python3.8/site-packages (from matplotlib>=2.2->seaborn) (0.10.0)\n",
      "Requirement already satisfied: pillow>=6.2.0 in /home/udit/anaconda3/lib/python3.8/site-packages (from matplotlib>=2.2->seaborn) (8.2.0)\n",
      "Requirement already satisfied: kiwisolver>=1.0.1 in /home/udit/anaconda3/lib/python3.8/site-packages (from matplotlib>=2.2->seaborn) (1.3.1)\n",
      "Requirement already satisfied: six in /home/udit/anaconda3/lib/python3.8/site-packages (from cycler>=0.10->matplotlib>=2.2->seaborn) (1.15.0)\n",
      "Requirement already satisfied: pytz>=2017.3 in /home/udit/anaconda3/lib/python3.8/site-packages (from pandas>=0.23->seaborn) (2021.1)\n",
      "Note: you may need to restart the kernel to use updated packages.\n"
     ]
    }
   ],
   "source": [
    "%pip install seaborn"
   ]
  },
  {
   "cell_type": "code",
   "execution_count": 12,
   "id": "b2305964",
   "metadata": {},
   "outputs": [
    {
     "name": "stdout",
     "output_type": "stream",
     "text": [
      "  _____________\r\n",
      "| hello fuckers |\r\n",
      "  =============\r\n",
      "             \\\r\n",
      "              \\\r\n",
      "                ^__^\r\n",
      "                (oo)\\_______\r\n",
      "                (__)\\       )\\/\\\r\n",
      "                    ||----w |\r\n",
      "                    ||     ||\r\n"
     ]
    }
   ],
   "source": [
    "!cowsay \"hello fuckers\"\n",
    " "
   ]
  },
  {
   "cell_type": "code",
   "execution_count": 11,
   "id": "62e11845",
   "metadata": {},
   "outputs": [
    {
     "name": "stdout",
     "output_type": "stream",
     "text": [
      "Collecting cowsay\n",
      "  Downloading cowsay-4.0-py2.py3-none-any.whl (24 kB)\n",
      "Installing collected packages: cowsay\n",
      "Successfully installed cowsay-4.0\n"
     ]
    }
   ],
   "source": [
    "!pip install cowsay"
   ]
  },
  {
   "cell_type": "markdown",
   "id": "15d24bd7",
   "metadata": {},
   "source": [
    "## Shortcuts\n"
   ]
  },
  {
   "cell_type": "code",
   "execution_count": 13,
   "id": "5a8f3483",
   "metadata": {},
   "outputs": [],
   "source": [
    "# few shortcuts for note book\n"
   ]
  },
  {
   "cell_type": "markdown",
   "id": "0e72fbf2",
   "metadata": {},
   "source": [
    "### esc+ a to add cell above\n",
    "### esc + d+d to delete cell\n",
    "### esc+ b to add cell below\n",
    "### esc + y switch to markdown\n",
    "### esc + m switch to markdown"
   ]
  },
  {
   "cell_type": "code",
   "execution_count": 14,
   "id": "4dee2e8e",
   "metadata": {},
   "outputs": [],
   "source": [
    "#few shortcuts to change display in pandas"
   ]
  },
  {
   "cell_type": "markdown",
   "id": "a5782b29",
   "metadata": {},
   "source": [
    "### pd.options.display.max_rows(n)\n",
    "### pd.options.display.max_columns(n)\n",
    "### pd.options.display.max_col_width\n",
    "### pd.options.display.precision\n"
   ]
  },
  {
   "cell_type": "code",
   "execution_count": 16,
   "id": "ebb5d3b2",
   "metadata": {},
   "outputs": [],
   "source": [
    "#setting up alert when cell is finished"
   ]
  },
  {
   "cell_type": "code",
   "execution_count": 17,
   "id": "9540f6c1",
   "metadata": {},
   "outputs": [],
   "source": [
    "# install jupyternotify"
   ]
  },
  {
   "cell_type": "code",
   "execution_count": 30,
   "id": "503b0cf1",
   "metadata": {},
   "outputs": [
    {
     "name": "stdout",
     "output_type": "stream",
     "text": [
      "Requirement already satisfied: jupyternotify in /home/udit/anaconda3/lib/python3.8/site-packages (0.1.15)\n",
      "Requirement already satisfied: jupyter in /home/udit/anaconda3/lib/python3.8/site-packages (from jupyternotify) (1.0.0)\n",
      "Requirement already satisfied: ipython in /home/udit/.local/lib/python3.8/site-packages (from jupyternotify) (8.2.0)\n",
      "Requirement already satisfied: prompt-toolkit!=3.0.0,!=3.0.1,<3.1.0,>=2.0.0 in /home/udit/.local/lib/python3.8/site-packages (from ipython->jupyternotify) (3.0.29)\n",
      "Requirement already satisfied: jedi>=0.16 in /home/udit/.local/lib/python3.8/site-packages (from ipython->jupyternotify) (0.18.1)\n",
      "Requirement already satisfied: stack-data in /home/udit/.local/lib/python3.8/site-packages (from ipython->jupyternotify) (0.2.0)\n",
      "Requirement already satisfied: backcall in /home/udit/.local/lib/python3.8/site-packages (from ipython->jupyternotify) (0.2.0)\n",
      "Requirement already satisfied: traitlets>=5 in /home/udit/.local/lib/python3.8/site-packages (from ipython->jupyternotify) (5.1.1)\n",
      "Requirement already satisfied: setuptools>=18.5 in /home/udit/anaconda3/lib/python3.8/site-packages (from ipython->jupyternotify) (52.0.0.post20210125)\n",
      "Requirement already satisfied: decorator in /home/udit/.local/lib/python3.8/site-packages (from ipython->jupyternotify) (5.1.1)\n",
      "Requirement already satisfied: matplotlib-inline in /home/udit/.local/lib/python3.8/site-packages (from ipython->jupyternotify) (0.1.3)\n",
      "Requirement already satisfied: pickleshare in /home/udit/.local/lib/python3.8/site-packages (from ipython->jupyternotify) (0.7.5)\n",
      "Requirement already satisfied: pygments>=2.4.0 in /home/udit/.local/lib/python3.8/site-packages (from ipython->jupyternotify) (2.11.2)\n",
      "Requirement already satisfied: pexpect>4.3 in /home/udit/anaconda3/lib/python3.8/site-packages (from ipython->jupyternotify) (4.8.0)\n",
      "Requirement already satisfied: parso<0.9.0,>=0.8.0 in /home/udit/.local/lib/python3.8/site-packages (from jedi>=0.16->ipython->jupyternotify) (0.8.3)\n",
      "Requirement already satisfied: ptyprocess>=0.5 in /home/udit/anaconda3/lib/python3.8/site-packages (from pexpect>4.3->ipython->jupyternotify) (0.7.0)\n",
      "Requirement already satisfied: wcwidth in /home/udit/.local/lib/python3.8/site-packages (from prompt-toolkit!=3.0.0,!=3.0.1,<3.1.0,>=2.0.0->ipython->jupyternotify) (0.2.5)\n",
      "Requirement already satisfied: jupyter-console in /home/udit/anaconda3/lib/python3.8/site-packages (from jupyter->jupyternotify) (6.4.0)\n",
      "Requirement already satisfied: notebook in /home/udit/anaconda3/lib/python3.8/site-packages (from jupyter->jupyternotify) (6.3.0)\n",
      "Requirement already satisfied: ipykernel in /home/udit/.local/lib/python3.8/site-packages (from jupyter->jupyternotify) (6.13.0)\n",
      "Requirement already satisfied: nbconvert in /home/udit/anaconda3/lib/python3.8/site-packages (from jupyter->jupyternotify) (6.0.7)\n",
      "Requirement already satisfied: ipywidgets in /home/udit/anaconda3/lib/python3.8/site-packages (from jupyter->jupyternotify) (7.6.3)\n",
      "Requirement already satisfied: qtconsole in /home/udit/anaconda3/lib/python3.8/site-packages (from jupyter->jupyternotify) (5.0.3)\n",
      "Requirement already satisfied: jupyter-client>=6.1.12 in /home/udit/.local/lib/python3.8/site-packages (from ipykernel->jupyter->jupyternotify) (7.2.2)\n",
      "Requirement already satisfied: psutil in /home/udit/anaconda3/lib/python3.8/site-packages (from ipykernel->jupyter->jupyternotify) (5.8.0)\n",
      "Requirement already satisfied: packaging in /home/udit/.local/lib/python3.8/site-packages (from ipykernel->jupyter->jupyternotify) (21.3)\n",
      "Requirement already satisfied: nest-asyncio in /home/udit/.local/lib/python3.8/site-packages (from ipykernel->jupyter->jupyternotify) (1.5.5)\n",
      "Requirement already satisfied: debugpy>=1.0 in /home/udit/.local/lib/python3.8/site-packages (from ipykernel->jupyter->jupyternotify) (1.6.0)\n",
      "Requirement already satisfied: tornado>=6.1 in /home/udit/.local/lib/python3.8/site-packages (from ipykernel->jupyter->jupyternotify) (6.1)\n",
      "Requirement already satisfied: entrypoints in /home/udit/anaconda3/lib/python3.8/site-packages (from jupyter-client>=6.1.12->ipykernel->jupyter->jupyternotify) (0.3)\n",
      "Requirement already satisfied: python-dateutil>=2.8.2 in /home/udit/.local/lib/python3.8/site-packages (from jupyter-client>=6.1.12->ipykernel->jupyter->jupyternotify) (2.8.2)\n",
      "Requirement already satisfied: jupyter-core>=4.9.2 in /home/udit/.local/lib/python3.8/site-packages (from jupyter-client>=6.1.12->ipykernel->jupyter->jupyternotify) (4.9.2)\n",
      "Requirement already satisfied: pyzmq>=22.3 in /home/udit/.local/lib/python3.8/site-packages (from jupyter-client>=6.1.12->ipykernel->jupyter->jupyternotify) (22.3.0)\n",
      "Requirement already satisfied: six>=1.5 in /home/udit/anaconda3/lib/python3.8/site-packages (from python-dateutil>=2.8.2->jupyter-client>=6.1.12->ipykernel->jupyter->jupyternotify) (1.15.0)\n",
      "Requirement already satisfied: jupyterlab-widgets>=1.0.0 in /home/udit/anaconda3/lib/python3.8/site-packages (from ipywidgets->jupyter->jupyternotify) (1.0.0)\n",
      "Requirement already satisfied: widgetsnbextension~=3.5.0 in /home/udit/anaconda3/lib/python3.8/site-packages (from ipywidgets->jupyter->jupyternotify) (3.5.1)\n",
      "Requirement already satisfied: nbformat>=4.2.0 in /home/udit/anaconda3/lib/python3.8/site-packages (from ipywidgets->jupyter->jupyternotify) (5.1.3)\n",
      "Requirement already satisfied: ipython-genutils in /home/udit/anaconda3/lib/python3.8/site-packages (from nbformat>=4.2.0->ipywidgets->jupyter->jupyternotify) (0.2.0)\n",
      "Requirement already satisfied: jsonschema!=2.5.0,>=2.4 in /home/udit/anaconda3/lib/python3.8/site-packages (from nbformat>=4.2.0->ipywidgets->jupyter->jupyternotify) (3.2.0)\n",
      "Requirement already satisfied: attrs>=17.4.0 in /home/udit/anaconda3/lib/python3.8/site-packages (from jsonschema!=2.5.0,>=2.4->nbformat>=4.2.0->ipywidgets->jupyter->jupyternotify) (20.3.0)\n",
      "Requirement already satisfied: pyrsistent>=0.14.0 in /home/udit/anaconda3/lib/python3.8/site-packages (from jsonschema!=2.5.0,>=2.4->nbformat>=4.2.0->ipywidgets->jupyter->jupyternotify) (0.17.3)\n",
      "Requirement already satisfied: terminado>=0.8.3 in /home/udit/anaconda3/lib/python3.8/site-packages (from notebook->jupyter->jupyternotify) (0.9.4)\n",
      "Requirement already satisfied: prometheus-client in /home/udit/anaconda3/lib/python3.8/site-packages (from notebook->jupyter->jupyternotify) (0.10.1)\n",
      "Requirement already satisfied: jinja2 in /home/udit/anaconda3/lib/python3.8/site-packages (from notebook->jupyter->jupyternotify) (2.11.3)\n",
      "Requirement already satisfied: argon2-cffi in /home/udit/anaconda3/lib/python3.8/site-packages (from notebook->jupyter->jupyternotify) (20.1.0)\n",
      "Requirement already satisfied: Send2Trash>=1.5.0 in /home/udit/anaconda3/lib/python3.8/site-packages (from notebook->jupyter->jupyternotify) (1.5.0)\n",
      "Requirement already satisfied: cffi>=1.0.0 in /home/udit/anaconda3/lib/python3.8/site-packages (from argon2-cffi->notebook->jupyter->jupyternotify) (1.14.5)\n",
      "Requirement already satisfied: pycparser in /home/udit/anaconda3/lib/python3.8/site-packages (from cffi>=1.0.0->argon2-cffi->notebook->jupyter->jupyternotify) (2.20)\n",
      "Requirement already satisfied: MarkupSafe>=0.23 in /home/udit/anaconda3/lib/python3.8/site-packages (from jinja2->notebook->jupyter->jupyternotify) (1.1.1)\n",
      "Requirement already satisfied: mistune<2,>=0.8.1 in /home/udit/anaconda3/lib/python3.8/site-packages (from nbconvert->jupyter->jupyternotify) (0.8.4)\n",
      "Requirement already satisfied: pandocfilters>=1.4.1 in /home/udit/anaconda3/lib/python3.8/site-packages (from nbconvert->jupyter->jupyternotify) (1.4.3)\n",
      "Requirement already satisfied: testpath in /home/udit/anaconda3/lib/python3.8/site-packages (from nbconvert->jupyter->jupyternotify) (0.4.4)\n",
      "Requirement already satisfied: jupyterlab-pygments in /home/udit/anaconda3/lib/python3.8/site-packages (from nbconvert->jupyter->jupyternotify) (0.1.2)\n",
      "Requirement already satisfied: nbclient<0.6.0,>=0.5.0 in /home/udit/anaconda3/lib/python3.8/site-packages (from nbconvert->jupyter->jupyternotify) (0.5.3)\n",
      "Requirement already satisfied: bleach in /home/udit/anaconda3/lib/python3.8/site-packages (from nbconvert->jupyter->jupyternotify) (3.3.0)\n",
      "Requirement already satisfied: defusedxml in /home/udit/anaconda3/lib/python3.8/site-packages (from nbconvert->jupyter->jupyternotify) (0.7.1)\n"
     ]
    },
    {
     "name": "stdout",
     "output_type": "stream",
     "text": [
      "Requirement already satisfied: async-generator in /home/udit/anaconda3/lib/python3.8/site-packages (from nbclient<0.6.0,>=0.5.0->nbconvert->jupyter->jupyternotify) (1.10)\n",
      "Requirement already satisfied: webencodings in /home/udit/anaconda3/lib/python3.8/site-packages (from bleach->nbconvert->jupyter->jupyternotify) (0.5.1)\n",
      "Requirement already satisfied: pyparsing!=3.0.5,>=2.0.2 in /home/udit/.local/lib/python3.8/site-packages (from packaging->ipykernel->jupyter->jupyternotify) (3.0.8)\n",
      "Requirement already satisfied: qtpy in /home/udit/anaconda3/lib/python3.8/site-packages (from qtconsole->jupyter->jupyternotify) (1.9.0)\n",
      "Requirement already satisfied: asttokens in /home/udit/.local/lib/python3.8/site-packages (from stack-data->ipython->jupyternotify) (2.0.5)\n",
      "Requirement already satisfied: pure-eval in /home/udit/.local/lib/python3.8/site-packages (from stack-data->ipython->jupyternotify) (0.2.2)\n",
      "Requirement already satisfied: executing in /home/udit/.local/lib/python3.8/site-packages (from stack-data->ipython->jupyternotify) (0.8.3)\n"
     ]
    }
   ],
   "source": [
    "!pip install jupyternotify"
   ]
  },
  {
   "cell_type": "code",
   "execution_count": 29,
   "id": "512b3229",
   "metadata": {},
   "outputs": [
    {
     "name": "stdout",
     "output_type": "stream",
     "text": [
      "The jupyternotify extension is already loaded. To reload it, use:\n",
      "  %reload_ext jupyternotify\n"
     ]
    }
   ],
   "source": [
    "#loading it\n",
    "%load_ext jupyternotify\n"
   ]
  },
  {
   "cell_type": "code",
   "execution_count": 27,
   "id": "3369e674",
   "metadata": {},
   "outputs": [
    {
     "name": "stdout",
     "output_type": "stream",
     "text": [
      "Requirement already satisfied: notify in /home/udit/anaconda3/lib/python3.8/site-packages (0.3.1)\r\n",
      "Requirement already satisfied: app-version in /home/udit/anaconda3/lib/python3.8/site-packages (from notify) (1.0.1)\r\n",
      "Requirement already satisfied: validate-email in /home/udit/anaconda3/lib/python3.8/site-packages (from notify) (1.3)\r\n"
     ]
    }
   ],
   "source": [
    "!pip install notify"
   ]
  },
  {
   "cell_type": "code",
   "execution_count": 31,
   "id": "eeff779a",
   "metadata": {},
   "outputs": [
    {
     "name": "stderr",
     "output_type": "stream",
     "text": [
      "UsageError: Line magic function `%%notify` not found.\n"
     ]
    }
   ],
   "source": [
    "# command to notify\n",
    "%%notify\n",
    "import time\n",
    "import random\n",
    "r=random.randint(30,60)\n",
    "time.sleep(r)\n",
    "print(\"finished\")"
   ]
  },
  {
   "cell_type": "code",
   "execution_count": 32,
   "id": "4661b20b",
   "metadata": {},
   "outputs": [],
   "source": [
    "##creating a slidshow out of your notebook"
   ]
  },
  {
   "cell_type": "code",
   "execution_count": 33,
   "id": "9410aea4",
   "metadata": {},
   "outputs": [
    {
     "ename": "SyntaxError",
     "evalue": "invalid syntax (4138319261.py, line 1)",
     "output_type": "error",
     "traceback": [
      "\u001b[0;36m  Input \u001b[0;32mIn [33]\u001b[0;36m\u001b[0m\n\u001b[0;31m    view --> cell toolbar -->\u001b[0m\n\u001b[0m          ^\u001b[0m\n\u001b[0;31mSyntaxError\u001b[0m\u001b[0;31m:\u001b[0m invalid syntax\n"
     ]
    }
   ],
   "source": [
    "view --> cell toolbar -->"
   ]
  },
  {
   "cell_type": "code",
   "execution_count": null,
   "id": "2d1cdb9d",
   "metadata": {},
   "outputs": [],
   "source": []
  }
 ],
 "metadata": {
  "kernelspec": {
   "display_name": "Python 3 (ipykernel)",
   "language": "python",
   "name": "python3"
  },
  "language_info": {
   "codemirror_mode": {
    "name": "ipython",
    "version": 3
   },
   "file_extension": ".py",
   "mimetype": "text/x-python",
   "name": "python",
   "nbconvert_exporter": "python",
   "pygments_lexer": "ipython3",
   "version": "3.8.8"
  }
 },
 "nbformat": 4,
 "nbformat_minor": 5
}
