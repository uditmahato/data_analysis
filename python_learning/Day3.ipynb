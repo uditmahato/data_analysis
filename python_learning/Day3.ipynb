{
 "cells": [
  {
   "cell_type": "markdown",
   "id": "6498763d",
   "metadata": {},
   "source": [
    "# Python Inbult function"
   ]
  },
  {
   "cell_type": "code",
   "execution_count": 1,
   "id": "f8a35ad0",
   "metadata": {},
   "outputs": [
    {
     "data": {
      "text/plain": [
       "'abs()\\naiter()\\nall()\\nany()\\nanext()\\nascii()\\n\\nB\\nbin()\\nbool()\\nbreakpoint()\\nbytearray()\\nbytes()\\n\\nC\\ncallable()\\nchr()\\nclassmethod()\\ncompile()\\ncomplex()\\n\\nD\\ndelattr()\\ndict()\\ndir()\\ndivmod()\\n\\nE\\nenumerate()\\neval()\\nexec()\\n\\nF\\nfilter()\\nfloat()\\nformat()\\nfrozenset()\\n\\nG\\ngetattr()\\nglobals()\\n\\nH\\nhasattr()\\nhash()\\nhelp()\\nhex()\\n\\nI\\nid()\\ninput()\\nint()\\nisinstance()\\nissubclass()\\niter()\\nL\\nlen()\\nlist()\\nlocals()\\n\\nM\\nmap()\\nmax()\\nmemoryview()\\nmin()\\n\\nN\\nnext()\\n\\nO\\nobject()\\noct()\\nopen()\\nord()\\n\\nP\\npow()\\nprint()\\nproperty()\\n\\n\\n\\n\\nR\\nrange()\\nrepr()\\nreversed()\\nround()\\n\\nS\\nset()\\nsetattr()\\nslice()\\nsorted()\\nstaticmethod()\\nstr()\\nsum()\\nsuper()\\n\\nT\\ntuple()\\ntype()\\n\\nV\\nvars()\\n\\nZ\\nzip()\\n\\n_\\n__import__()'"
      ]
     },
     "execution_count": 1,
     "metadata": {},
     "output_type": "execute_result"
    }
   ],
   "source": [
    "\"\"\"abs()\n",
    "aiter()\n",
    "all()\n",
    "any()\n",
    "anext()\n",
    "ascii()\n",
    "\n",
    "B\n",
    "bin()\n",
    "bool()\n",
    "breakpoint()\n",
    "bytearray()\n",
    "bytes()\n",
    "\n",
    "C\n",
    "callable()\n",
    "chr()\n",
    "classmethod()\n",
    "compile()\n",
    "complex()\n",
    "\n",
    "D\n",
    "delattr()\n",
    "dict()\n",
    "dir()\n",
    "divmod()\n",
    "\n",
    "E\n",
    "enumerate()\n",
    "eval()\n",
    "exec()\n",
    "\n",
    "F\n",
    "filter()\n",
    "float()\n",
    "format()\n",
    "frozenset()\n",
    "\n",
    "G\n",
    "getattr()\n",
    "globals()\n",
    "\n",
    "H\n",
    "hasattr()\n",
    "hash()\n",
    "help()\n",
    "hex()\n",
    "\n",
    "I\n",
    "id()\n",
    "input()\n",
    "int()\n",
    "isinstance()\n",
    "issubclass()\n",
    "iter()\n",
    "L\n",
    "len()\n",
    "list()\n",
    "locals()\n",
    "\n",
    "M\n",
    "map()\n",
    "max()\n",
    "memoryview()\n",
    "min()\n",
    "\n",
    "N\n",
    "next()\n",
    "\n",
    "O\n",
    "object()\n",
    "oct()\n",
    "open()\n",
    "ord()\n",
    "\n",
    "P\n",
    "pow()\n",
    "print()\n",
    "property()\n",
    "\n",
    "\n",
    "\n",
    "\n",
    "R\n",
    "range()\n",
    "repr()\n",
    "reversed()\n",
    "round()\n",
    "\n",
    "S\n",
    "set()\n",
    "setattr()\n",
    "slice()\n",
    "sorted()\n",
    "staticmethod()\n",
    "str()\n",
    "sum()\n",
    "super()\n",
    "\n",
    "T\n",
    "tuple()\n",
    "type()\n",
    "\n",
    "V\n",
    "vars()\n",
    "\n",
    "Z\n",
    "zip()\n",
    "\n",
    "_\n",
    "__import__()\"\"\"\n"
   ]
  },
  {
   "cell_type": "code",
   "execution_count": 2,
   "id": "9c1a6564",
   "metadata": {},
   "outputs": [
    {
     "data": {
      "text/plain": [
       "'/home/udit/Desktop/Data Science/practice/python_learning'"
      ]
     },
     "execution_count": 2,
     "metadata": {},
     "output_type": "execute_result"
    }
   ],
   "source": [
    "%pwd"
   ]
  },
  {
   "cell_type": "code",
   "execution_count": 4,
   "id": "8bd8fd06",
   "metadata": {},
   "outputs": [
    {
     "name": "stdout",
     "output_type": "stream",
     "text": [
      "Day1.ipynb  Day2.ipynb  Day3.ipynb\r\n"
     ]
    }
   ],
   "source": [
    "%ls"
   ]
  },
  {
   "cell_type": "code",
   "execution_count": 6,
   "id": "32a4cd02",
   "metadata": {},
   "outputs": [
    {
     "name": "stdout",
     "output_type": "stream",
     "text": [
      "Interactive namespace is empty.\n"
     ]
    }
   ],
   "source": [
    "%who"
   ]
  },
  {
   "cell_type": "code",
   "execution_count": 7,
   "id": "35b4dc56",
   "metadata": {},
   "outputs": [
    {
     "data": {
      "application/json": {
       "cell": {
        "!": "OSMagics",
        "HTML": "Other",
        "SVG": "Other",
        "bash": "Other",
        "capture": "ExecutionMagics",
        "debug": "ExecutionMagics",
        "file": "Other",
        "html": "DisplayMagics",
        "javascript": "DisplayMagics",
        "js": "DisplayMagics",
        "latex": "DisplayMagics",
        "markdown": "DisplayMagics",
        "perl": "Other",
        "prun": "ExecutionMagics",
        "pypy": "Other",
        "python": "Other",
        "python2": "Other",
        "python3": "Other",
        "ruby": "Other",
        "script": "ScriptMagics",
        "sh": "Other",
        "svg": "DisplayMagics",
        "sx": "OSMagics",
        "system": "OSMagics",
        "time": "ExecutionMagics",
        "timeit": "ExecutionMagics",
        "writefile": "OSMagics"
       },
       "line": {
        "alias": "OSMagics",
        "alias_magic": "BasicMagics",
        "autoawait": "AsyncMagics",
        "autocall": "AutoMagics",
        "automagic": "AutoMagics",
        "autosave": "KernelMagics",
        "bookmark": "OSMagics",
        "cat": "Other",
        "cd": "OSMagics",
        "clear": "KernelMagics",
        "colors": "BasicMagics",
        "conda": "PackagingMagics",
        "config": "ConfigMagics",
        "connect_info": "KernelMagics",
        "cp": "Other",
        "debug": "ExecutionMagics",
        "dhist": "OSMagics",
        "dirs": "OSMagics",
        "doctest_mode": "BasicMagics",
        "ed": "Other",
        "edit": "KernelMagics",
        "env": "OSMagics",
        "gui": "BasicMagics",
        "hist": "Other",
        "history": "HistoryMagics",
        "killbgscripts": "ScriptMagics",
        "ldir": "Other",
        "less": "KernelMagics",
        "lf": "Other",
        "lk": "Other",
        "ll": "Other",
        "load": "CodeMagics",
        "load_ext": "ExtensionMagics",
        "loadpy": "CodeMagics",
        "logoff": "LoggingMagics",
        "logon": "LoggingMagics",
        "logstart": "LoggingMagics",
        "logstate": "LoggingMagics",
        "logstop": "LoggingMagics",
        "ls": "Other",
        "lsmagic": "BasicMagics",
        "lx": "Other",
        "macro": "ExecutionMagics",
        "magic": "BasicMagics",
        "man": "KernelMagics",
        "matplotlib": "PylabMagics",
        "mkdir": "Other",
        "more": "KernelMagics",
        "mv": "Other",
        "notebook": "BasicMagics",
        "page": "BasicMagics",
        "pastebin": "CodeMagics",
        "pdb": "ExecutionMagics",
        "pdef": "NamespaceMagics",
        "pdoc": "NamespaceMagics",
        "pfile": "NamespaceMagics",
        "pinfo": "NamespaceMagics",
        "pinfo2": "NamespaceMagics",
        "pip": "PackagingMagics",
        "popd": "OSMagics",
        "pprint": "BasicMagics",
        "precision": "BasicMagics",
        "prun": "ExecutionMagics",
        "psearch": "NamespaceMagics",
        "psource": "NamespaceMagics",
        "pushd": "OSMagics",
        "pwd": "OSMagics",
        "pycat": "OSMagics",
        "pylab": "PylabMagics",
        "qtconsole": "KernelMagics",
        "quickref": "BasicMagics",
        "recall": "HistoryMagics",
        "rehashx": "OSMagics",
        "reload_ext": "ExtensionMagics",
        "rep": "Other",
        "rerun": "HistoryMagics",
        "reset": "NamespaceMagics",
        "reset_selective": "NamespaceMagics",
        "rm": "Other",
        "rmdir": "Other",
        "run": "ExecutionMagics",
        "save": "CodeMagics",
        "sc": "OSMagics",
        "set_env": "OSMagics",
        "store": "StoreMagics",
        "sx": "OSMagics",
        "system": "OSMagics",
        "tb": "ExecutionMagics",
        "time": "ExecutionMagics",
        "timeit": "ExecutionMagics",
        "unalias": "OSMagics",
        "unload_ext": "ExtensionMagics",
        "who": "NamespaceMagics",
        "who_ls": "NamespaceMagics",
        "whos": "NamespaceMagics",
        "xdel": "NamespaceMagics",
        "xmode": "BasicMagics"
       }
      },
      "text/plain": [
       "Available line magics:\n",
       "%alias  %alias_magic  %autoawait  %autocall  %automagic  %autosave  %bookmark  %cat  %cd  %clear  %colors  %conda  %config  %connect_info  %cp  %debug  %dhist  %dirs  %doctest_mode  %ed  %edit  %env  %gui  %hist  %history  %killbgscripts  %ldir  %less  %lf  %lk  %ll  %load  %load_ext  %loadpy  %logoff  %logon  %logstart  %logstate  %logstop  %ls  %lsmagic  %lx  %macro  %magic  %man  %matplotlib  %mkdir  %more  %mv  %notebook  %page  %pastebin  %pdb  %pdef  %pdoc  %pfile  %pinfo  %pinfo2  %pip  %popd  %pprint  %precision  %prun  %psearch  %psource  %pushd  %pwd  %pycat  %pylab  %qtconsole  %quickref  %recall  %rehashx  %reload_ext  %rep  %rerun  %reset  %reset_selective  %rm  %rmdir  %run  %save  %sc  %set_env  %store  %sx  %system  %tb  %time  %timeit  %unalias  %unload_ext  %who  %who_ls  %whos  %xdel  %xmode\n",
       "\n",
       "Available cell magics:\n",
       "%%!  %%HTML  %%SVG  %%bash  %%capture  %%debug  %%file  %%html  %%javascript  %%js  %%latex  %%markdown  %%perl  %%prun  %%pypy  %%python  %%python2  %%python3  %%ruby  %%script  %%sh  %%svg  %%sx  %%system  %%time  %%timeit  %%writefile\n",
       "\n",
       "Automagic is ON, % prefix IS NOT needed for line magics."
      ]
     },
     "execution_count": 7,
     "metadata": {},
     "output_type": "execute_result"
    }
   ],
   "source": [
    "%lsmagic"
   ]
  },
  {
   "cell_type": "code",
   "execution_count": 11,
   "id": "86a4ae29",
   "metadata": {},
   "outputs": [
    {
     "name": "stdout",
     "output_type": "stream",
     "text": [
      "CPU times: user 8 µs, sys: 2 µs, total: 10 µs\n",
      "Wall time: 16.7 µs\n"
     ]
    }
   ],
   "source": [
    "%time"
   ]
  },
  {
   "cell_type": "code",
   "execution_count": 13,
   "id": "43335626",
   "metadata": {},
   "outputs": [
    {
     "ename": "NameError",
     "evalue": "name 'pri' is not defined",
     "output_type": "error",
     "traceback": [
      "\u001b[0;31m---------------------------------------------------------------------------\u001b[0m",
      "\u001b[0;31mNameError\u001b[0m                                 Traceback (most recent call last)",
      "\u001b[0;32m<ipython-input-13-ca980a2fdd56>\u001b[0m in \u001b[0;36m<module>\u001b[0;34m\u001b[0m\n\u001b[0;32m----> 1\u001b[0;31m \u001b[0mpri\u001b[0m\u001b[0;34m(\u001b[0m\u001b[0;36m0\u001b[0m\u001b[0;34m)\u001b[0m\u001b[0;34m\u001b[0m\u001b[0;34m\u001b[0m\u001b[0m\n\u001b[0m\u001b[1;32m      2\u001b[0m \u001b[0mget_ipython\u001b[0m\u001b[0;34m(\u001b[0m\u001b[0;34m)\u001b[0m\u001b[0;34m.\u001b[0m\u001b[0mrun_line_magic\u001b[0m\u001b[0;34m(\u001b[0m\u001b[0;34m'debug'\u001b[0m\u001b[0;34m,\u001b[0m \u001b[0;34m''\u001b[0m\u001b[0;34m)\u001b[0m\u001b[0;34m\u001b[0m\u001b[0;34m\u001b[0m\u001b[0m\n",
      "\u001b[0;31mNameError\u001b[0m: name 'pri' is not defined"
     ]
    }
   ],
   "source": [
    "pri(0)\n",
    "%debug"
   ]
  },
  {
   "cell_type": "code",
   "execution_count": null,
   "id": "78d6f489",
   "metadata": {},
   "outputs": [],
   "source": []
  }
 ],
 "metadata": {
  "kernelspec": {
   "display_name": "Python 3",
   "language": "python",
   "name": "python3"
  },
  "language_info": {
   "codemirror_mode": {
    "name": "ipython",
    "version": 3
   },
   "file_extension": ".py",
   "mimetype": "text/x-python",
   "name": "python",
   "nbconvert_exporter": "python",
   "pygments_lexer": "ipython3",
   "version": "3.8.8"
  }
 },
 "nbformat": 4,
 "nbformat_minor": 5
}
