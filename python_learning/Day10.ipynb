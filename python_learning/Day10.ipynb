{
 "cells": [
  {
   "cell_type": "markdown",
   "id": "b45a3209",
   "metadata": {},
   "source": [
    "# USER INPUT "
   ]
  },
  {
   "cell_type": "code",
   "execution_count": 1,
   "id": "ab7e2844",
   "metadata": {},
   "outputs": [
    {
     "name": "stdout",
     "output_type": "stream",
     "text": [
      "Enter your nameudit\n",
      "Your name is  udit\n"
     ]
    }
   ],
   "source": [
    "#python have user input methods,2.7 has different one and 3,6 has different one\n",
    "name=input(\"Enter your name\")\n",
    "print(\"Your name is \",name)"
   ]
  },
  {
   "cell_type": "code",
   "execution_count": 4,
   "id": "12b8056f",
   "metadata": {},
   "outputs": [
    {
     "name": "stdout",
     "output_type": "stream",
     "text": [
      "Your name ?samikshya pandey\n",
      "You are  samikshya pandey\n"
     ]
    }
   ],
   "source": [
    "#python input for 2.7\n",
    "name=raw_input(\"Your name\")\n",
    "print(\"You are \",name)"
   ]
  },
  {
   "cell_type": "code",
   "execution_count": 9,
   "id": "e9d4c138",
   "metadata": {},
   "outputs": [
    {
     "ename": "KeyError",
     "evalue": "'price'",
     "output_type": "error",
     "traceback": [
      "\u001b[0;31m---------------------------------------------------------------------------\u001b[0m",
      "\u001b[0;31mKeyError\u001b[0m                                  Traceback (most recent call last)",
      "\u001b[0;32m<ipython-input-9-318f300fd73e>\u001b[0m in \u001b[0;36m<module>\u001b[0;34m\u001b[0m\n\u001b[1;32m      5\u001b[0m \u001b[0mbilled_price\u001b[0m\u001b[0;34m=\u001b[0m\u001b[0;36m450090.8769\u001b[0m\u001b[0;34m\u001b[0m\u001b[0;34m\u001b[0m\u001b[0m\n\u001b[1;32m      6\u001b[0m \u001b[0msentence\u001b[0m\u001b[0;34m=\u001b[0m\u001b[0;34m\"the price of goods was {price}  of {n} number of goods and the billed price was {billed_price}\"\u001b[0m\u001b[0;34m\u001b[0m\u001b[0;34m\u001b[0m\u001b[0m\n\u001b[0;32m----> 7\u001b[0;31m \u001b[0mprint\u001b[0m\u001b[0;34m(\u001b[0m\u001b[0msentence\u001b[0m\u001b[0;34m.\u001b[0m\u001b[0mformat\u001b[0m\u001b[0;34m(\u001b[0m\u001b[0mprice\u001b[0m\u001b[0;34m,\u001b[0m\u001b[0mn\u001b[0m\u001b[0;34m,\u001b[0m\u001b[0mbilled_price\u001b[0m\u001b[0;34m)\u001b[0m\u001b[0;34m)\u001b[0m\u001b[0;34m\u001b[0m\u001b[0;34m\u001b[0m\u001b[0m\n\u001b[0m",
      "\u001b[0;31mKeyError\u001b[0m: 'price'"
     ]
    }
   ],
   "source": [
    "#string formatting example\n",
    "price=29650\n",
    "n=53\n",
    "billed_price=450090.8769\n",
    "sentence=\"the price of goods was {price}  of {n} number of goods and the billed price was {billed_price}\"\n",
    "print(sentence.format(price,n,billed_price))"
   ]
  },
  {
   "cell_type": "code",
   "execution_count": null,
   "id": "b2786156",
   "metadata": {},
   "outputs": [],
   "source": []
  }
 ],
 "metadata": {
  "kernelspec": {
   "display_name": "Python 3",
   "language": "python",
   "name": "python3"
  },
  "language_info": {
   "codemirror_mode": {
    "name": "ipython",
    "version": 3
   },
   "file_extension": ".py",
   "mimetype": "text/x-python",
   "name": "python",
   "nbconvert_exporter": "python",
   "pygments_lexer": "ipython3",
   "version": "3.8.8"
  }
 },
 "nbformat": 4,
 "nbformat_minor": 5
}
