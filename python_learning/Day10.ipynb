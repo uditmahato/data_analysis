{
 "cells": [
  {
   "cell_type": "markdown",
   "id": "15124364",
   "metadata": {},
   "source": [
    "# USER INPUT "
   ]
  },
  {
   "cell_type": "code",
   "execution_count": 1,
   "id": "e7984e06",
   "metadata": {},
   "outputs": [
    {
     "name": "stdout",
     "output_type": "stream",
     "text": [
      "Enter your nameudit\n",
      "Your name is  udit\n"
     ]
    }
   ],
   "source": [
    "#python have user input methods,2.7 has different one and 3,6 has different one\n",
    "name=input(\"Enter your name\")\n",
    "print(\"Your name is \",name)"
   ]
  },
  {
   "cell_type": "code",
   "execution_count": null,
   "id": "a9c548fc",
   "metadata": {},
   "outputs": [],
   "source": []
  }
 ],
 "metadata": {
  "kernelspec": {
   "display_name": "Python 3",
   "language": "python",
   "name": "python3"
  },
  "language_info": {
   "codemirror_mode": {
    "name": "ipython",
    "version": 3
   },
   "file_extension": ".py",
   "mimetype": "text/x-python",
   "name": "python",
   "nbconvert_exporter": "python",
   "pygments_lexer": "ipython3",
   "version": "3.8.8"
  }
 },
 "nbformat": 4,
 "nbformat_minor": 5
}
