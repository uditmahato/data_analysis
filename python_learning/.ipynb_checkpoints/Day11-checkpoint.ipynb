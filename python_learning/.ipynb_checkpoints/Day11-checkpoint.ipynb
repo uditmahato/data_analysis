{
 "cells": [
  {
   "cell_type": "code",
   "execution_count": 13,
   "id": "bd30b0bb",
   "metadata": {},
   "outputs": [
    {
     "data": {
      "text/plain": [
       "True"
      ]
     },
     "execution_count": 13,
     "metadata": {},
     "output_type": "execute_result"
    }
   ],
   "source": [
    "def fashionably_late(arrivals, name):\n",
    "    \"\"\"Given an ordered list of arrivals to the party and a name, return whether the guest with that\n",
    "    name was fashionably late.\n",
    "    \"\"\"\n",
    "    if name==arrivals[-1]:\n",
    "        return True\n",
    "    elif name==arrivals[-2]:\n",
    "        return True\n",
    "    else:\n",
    "        return False\n",
    "x=['Adela', 'Fleda', 'Owen', 'May', 'Mona', 'Gilbert', 'Ford']\n",
    "name='Ford'\n",
    "fashionably_late(x,name)"
   ]
  },
  {
   "cell_type": "code",
   "execution_count": 11,
   "id": "39f729df",
   "metadata": {},
   "outputs": [
    {
     "name": "stdout",
     "output_type": "stream",
     "text": [
      "False\n"
     ]
    },
    {
     "data": {
      "text/plain": [
       "'Ford'"
      ]
     },
     "execution_count": 11,
     "metadata": {},
     "output_type": "execute_result"
    }
   ],
   "source": [
    "x=['Adela', 'Fleda', 'Owen', 'May', 'Mona', 'Gilbert', 'Ford']\n",
    "y='Ford'\n",
    "if name==arrivals[-1]:\n",
    "    print(True)\n",
    "elif name==arrivals[-2]:\n",
    "    print(True)\n",
    "else:\n",
    "    print(False)\n",
    "arrivals[-1]"
   ]
  },
  {
   "cell_type": "code",
   "execution_count": null,
   "id": "534474b2",
   "metadata": {},
   "outputs": [],
   "source": []
  }
 ],
 "metadata": {
  "kernelspec": {
   "display_name": "Python 3",
   "language": "python",
   "name": "python3"
  },
  "language_info": {
   "codemirror_mode": {
    "name": "ipython",
    "version": 3
   },
   "file_extension": ".py",
   "mimetype": "text/x-python",
   "name": "python",
   "nbconvert_exporter": "python",
   "pygments_lexer": "ipython3",
   "version": "3.8.8"
  }
 },
 "nbformat": 4,
 "nbformat_minor": 5
}
