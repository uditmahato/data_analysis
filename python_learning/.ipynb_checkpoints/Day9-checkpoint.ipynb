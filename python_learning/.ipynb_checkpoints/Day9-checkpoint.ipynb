{
 "cells": [
  {
   "cell_type": "code",
   "execution_count": 2,
   "id": "95675bdb",
   "metadata": {},
   "outputs": [
    {
     "data": {
      "text/plain": [
       "datetime.datetime(2022, 3, 29, 20, 38, 17, 232917)"
      ]
     },
     "execution_count": 2,
     "metadata": {},
     "output_type": "execute_result"
    }
   ],
   "source": [
    "#date and time\n",
    "import datetime\n",
    "x=datetime.datetime.now()\n",
    "x"
   ]
  },
  {
   "cell_type": "code",
   "execution_count": 3,
   "id": "597bc1fe",
   "metadata": {},
   "outputs": [
    {
     "data": {
      "text/plain": [
       "2022"
      ]
     },
     "execution_count": 3,
     "metadata": {},
     "output_type": "execute_result"
    }
   ],
   "source": [
    "#incase we just want to know the year\n",
    "x.year"
   ]
  },
  {
   "cell_type": "code",
   "execution_count": 5,
   "id": "7578c3fc",
   "metadata": {},
   "outputs": [
    {
     "data": {
      "text/plain": [
       "'Tuesday'"
      ]
     },
     "execution_count": 5,
     "metadata": {},
     "output_type": "execute_result"
    }
   ],
   "source": [
    "#formatting date and time into readable string\n",
    "x.strftime(\"%a\")\n"
   ]
  },
  {
   "cell_type": "code",
   "execution_count": 6,
   "id": "a5caf9a3",
   "metadata": {},
   "outputs": [
    {
     "data": {
      "text/plain": [
       "'Tuesday'"
      ]
     },
     "execution_count": 6,
     "metadata": {},
     "output_type": "execute_result"
    }
   ],
   "source": [
    "x.strftime(\"%A\")"
   ]
  },
  {
   "cell_type": "code",
   "execution_count": 7,
   "id": "7bb7b963",
   "metadata": {},
   "outputs": [
    {
     "data": {
      "text/plain": [
       "'March'"
      ]
     },
     "execution_count": 7,
     "metadata": {},
     "output_type": "execute_result"
    }
   ],
   "source": [
    "x.strftime(\"%B\")"
   ]
  },
  {
   "cell_type": "code",
   "execution_count": 8,
   "id": "bb67b8e7",
   "metadata": {},
   "outputs": [
    {
     "data": {
      "text/plain": [
       "'Mar'"
      ]
     },
     "execution_count": 8,
     "metadata": {},
     "output_type": "execute_result"
    }
   ],
   "source": [
    "x.strftime(\"%b\")"
   ]
  },
  {
   "cell_type": "code",
   "execution_count": 9,
   "id": "727e2501",
   "metadata": {},
   "outputs": [
    {
     "data": {
      "text/plain": [
       "'2'"
      ]
     },
     "execution_count": 9,
     "metadata": {},
     "output_type": "execute_result"
    }
   ],
   "source": [
    "x.strftime(\"%w\")"
   ]
  },
  {
   "cell_type": "code",
   "execution_count": 10,
   "id": "7f1485c0",
   "metadata": {},
   "outputs": [
    {
     "data": {
      "text/plain": [
       "'29'"
      ]
     },
     "execution_count": 10,
     "metadata": {},
     "output_type": "execute_result"
    }
   ],
   "source": [
    "x.strftime(\"%d\")"
   ]
  },
  {
   "cell_type": "code",
   "execution_count": 11,
   "id": "b74f2e8c",
   "metadata": {},
   "outputs": [
    {
     "data": {
      "text/plain": [
       "'22'"
      ]
     },
     "execution_count": 11,
     "metadata": {},
     "output_type": "execute_result"
    }
   ],
   "source": [
    "x.strftime(\"%y\")"
   ]
  },
  {
   "cell_type": "code",
   "execution_count": 12,
   "id": "83ed6b05",
   "metadata": {},
   "outputs": [
    {
     "data": {
      "text/plain": [
       "'PM'"
      ]
     },
     "execution_count": 12,
     "metadata": {},
     "output_type": "execute_result"
    }
   ],
   "source": [
    "x.strftime(\"%p\")"
   ]
  },
  {
   "cell_type": "code",
   "execution_count": 13,
   "id": "85bca262",
   "metadata": {},
   "outputs": [
    {
     "data": {
      "text/plain": [
       "'13'"
      ]
     },
     "execution_count": 13,
     "metadata": {},
     "output_type": "execute_result"
    }
   ],
   "source": [
    "x.strftime(\"%V\")"
   ]
  },
  {
   "cell_type": "code",
   "execution_count": 14,
   "id": "e4ecb266",
   "metadata": {},
   "outputs": [
    {
     "data": {
      "text/plain": [
       "'%v'"
      ]
     },
     "execution_count": 14,
     "metadata": {},
     "output_type": "execute_result"
    }
   ],
   "source": [
    "x.strftime(\"%v\")"
   ]
  },
  {
   "cell_type": "markdown",
   "id": "d4bddb73",
   "metadata": {},
   "source": [
    "# try and except\n"
   ]
  },
  {
   "cell_type": "code",
   "execution_count": 18,
   "id": "54a754dd",
   "metadata": {
    "scrolled": true
   },
   "outputs": [
    {
     "name": "stdout",
     "output_type": "stream",
     "text": [
      "1.0\n"
     ]
    }
   ],
   "source": [
    "#try:execute certain code\n",
    "#excepetion:handles error\n",
    "try:\n",
    "    s=\"Fuckers\"\n",
    "    print(5/5)\n",
    "except:\n",
    "    print(\"There is something error\")"
   ]
  },
  {
   "cell_type": "code",
   "execution_count": 17,
   "id": "52177e03",
   "metadata": {},
   "outputs": [
    {
     "name": "stdout",
     "output_type": "stream",
     "text": [
      "1.0\n",
      "Hello,we have crossed the exception\n"
     ]
    }
   ],
   "source": [
    "#used try except and else\n",
    "\n",
    "#else:prints if it has no error\n",
    "\n",
    "\n",
    "try:\n",
    "    s=\"Fuckers\"\n",
    "    print(5/5)\n",
    "except:\n",
    "    print(\"There is something error\")\n",
    "else:\n",
    "    print(\"Hello,we have crossed the exception\")"
   ]
  },
  {
   "cell_type": "code",
   "execution_count": 19,
   "id": "eab88bd9",
   "metadata": {},
   "outputs": [
    {
     "name": "stdout",
     "output_type": "stream",
     "text": [
      "1.0\n",
      "Hello,we have crossed the exception\n",
      "Now happy?\n"
     ]
    }
   ],
   "source": [
    "#now added finally which will be executed either the code has error or not\n",
    "try:\n",
    "    s=\"Fuckers\"\n",
    "    print(5/5)\n",
    "except:\n",
    "    print(\"There is something error\")\n",
    "else:\n",
    "    print(\"Hello,we have crossed the exception\")\n",
    "finally:\n",
    "    print(\"Now happy?\")"
   ]
  },
  {
   "cell_type": "code",
   "execution_count": null,
   "id": "a18b9eec",
   "metadata": {},
   "outputs": [],
   "source": []
  }
 ],
 "metadata": {
  "kernelspec": {
   "display_name": "Python 3",
   "language": "python",
   "name": "python3"
  },
  "language_info": {
   "codemirror_mode": {
    "name": "ipython",
    "version": 3
   },
   "file_extension": ".py",
   "mimetype": "text/x-python",
   "name": "python",
   "nbconvert_exporter": "python",
   "pygments_lexer": "ipython3",
   "version": "3.8.8"
  }
 },
 "nbformat": 4,
 "nbformat_minor": 5
}
