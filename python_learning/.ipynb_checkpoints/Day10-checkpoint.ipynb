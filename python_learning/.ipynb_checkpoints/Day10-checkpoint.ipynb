{
 "cells": [
  {
   "cell_type": "markdown",
   "id": "1f6b3649",
   "metadata": {},
   "source": [
    "# USER INPUT "
   ]
  },
  {
   "cell_type": "code",
   "execution_count": 1,
   "id": "564208da",
   "metadata": {},
   "outputs": [
    {
     "name": "stdout",
     "output_type": "stream",
     "text": [
      "Enter your nameudit\n",
      "Your name is  udit\n"
     ]
    }
   ],
   "source": [
    "#python have user input methods,2.7 has different one and 3,6 has different one\n",
    "name=input(\"Enter your name\")\n",
    "print(\"Your name is \",name)"
   ]
  },
  {
   "cell_type": "markdown",
   "id": "eb726f2e",
   "metadata": {},
   "source": []
  },
  {
   "cell_type": "code",
   "execution_count": null,
   "id": "bafe5ea6",
   "metadata": {},
   "outputs": [],
   "source": [
    "#python input for 2.7\n",
    "raw_input=input(\"Your name ?\")\n",
    "name=raw_input\n",
    "print(\"You are \",name)"
   ]
  },
  {
   "cell_type": "code",
   "execution_count": null,
   "id": "bfb0f5f0",
   "metadata": {},
   "outputs": [],
   "source": []
  }
 ],
 "metadata": {
  "kernelspec": {
   "display_name": "Python 3",
   "language": "python",
   "name": "python3"
  },
  "language_info": {
   "codemirror_mode": {
    "name": "ipython",
    "version": 3
   },
   "file_extension": ".py",
   "mimetype": "text/x-python",
   "name": "python",
   "nbconvert_exporter": "python",
   "pygments_lexer": "ipython3",
   "version": "3.8.8"
  }
 },
 "nbformat": 4,
 "nbformat_minor": 5
}
