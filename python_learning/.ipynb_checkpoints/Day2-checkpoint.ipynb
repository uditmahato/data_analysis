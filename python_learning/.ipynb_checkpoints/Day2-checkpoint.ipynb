{
 "cells": [
  {
   "cell_type": "code",
   "execution_count": 1,
   "id": "9a7a2a39",
   "metadata": {},
   "outputs": [
    {
     "name": "stdout",
     "output_type": "stream",
     "text": [
      "Emil Refsnes\n",
      "Tobias Refsnes\n",
      "Linus Refsnes\n"
     ]
    }
   ],
   "source": [
    "def my_function(fname):\n",
    "  print(fname + \" Refsnes\")\n",
    "\n",
    "my_function(\"Emil\")\n",
    "my_function(\"Tobias\")\n",
    "my_function(\"Linus\")"
   ]
  },
  {
   "cell_type": "code",
   "execution_count": 3,
   "id": "3b8907c9",
   "metadata": {},
   "outputs": [
    {
     "name": "stdout",
     "output_type": "stream",
     "text": [
      "Hello udit mahato\n"
     ]
    }
   ],
   "source": [
    "#Using string formatting\n",
    "def test(fname,lname):\n",
    "    print(f\"Hello {fname} {lname}\")\n",
    "test(\"udit\",\"mahato\")\n"
   ]
  },
  {
   "cell_type": "code",
   "execution_count": 4,
   "id": "d82218c1",
   "metadata": {},
   "outputs": [
    {
     "data": {
      "text/plain": [
       "'Hello udit mahato'"
      ]
     },
     "execution_count": 4,
     "metadata": {},
     "output_type": "execute_result"
    }
   ],
   "source": [
    "#Using string formatting + return \n",
    "def test(fname,lname):\n",
    "    return f\"Hello {fname} {lname}\"\n",
    "test(\"udit\",\"mahato\")"
   ]
  },
  {
   "cell_type": "code",
   "execution_count": 5,
   "id": "d3d18665",
   "metadata": {},
   "outputs": [
    {
     "name": "stdout",
     "output_type": "stream",
     "text": [
      "kaka ramu\n"
     ]
    }
   ],
   "source": [
    "#two arguments\n",
    "def my_function(fname, lname):\n",
    "  print(fname + \" \" + lname)\n",
    "\n",
    "my_function(\"kaka\", \"ramu\")"
   ]
  },
  {
   "cell_type": "code",
   "execution_count": 7,
   "id": "c29fdf1f",
   "metadata": {},
   "outputs": [
    {
     "name": "stdout",
     "output_type": "stream",
     "text": [
      "10\n"
     ]
    }
   ],
   "source": [
    "#two arguments and return\n",
    "def my_function(fnum, snum):\n",
    "  return fnum+snum\n",
    "\n",
    "print(my_function(4,6))"
   ]
  },
  {
   "cell_type": "code",
   "execution_count": 8,
   "id": "d952cd38",
   "metadata": {},
   "outputs": [
    {
     "name": "stdout",
     "output_type": "stream",
     "text": [
      "The youngest child is Linus\n"
     ]
    }
   ],
   "source": [
    "#arbitrary arguments\n",
    "def my_function(*kids):\n",
    "  print(\"The youngest child is \" + kids[2])\n",
    "\n",
    "my_function(\"Emil\", \"Tobias\", \"Linus\")"
   ]
  },
  {
   "cell_type": "code",
   "execution_count": 12,
   "id": "0bb92a6f",
   "metadata": {},
   "outputs": [
    {
     "data": {
      "text/plain": [
       "1597200"
      ]
     },
     "execution_count": 12,
     "metadata": {},
     "output_type": "execute_result"
    }
   ],
   "source": [
    "#arbitrary arguments using numbers(args)\n",
    "def my_function(*kids):\n",
    "    total=1\n",
    "    for i in kids:\n",
    "        total=i*total\n",
    "    return total\n",
    "\n",
    "my_function(5,10,22,33,44)"
   ]
  },
  {
   "cell_type": "code",
   "execution_count": 13,
   "id": "5bbaa6d3",
   "metadata": {},
   "outputs": [
    {
     "data": {
      "text/plain": [
       "{'fkid': 'ramu', 'skid': 'kaku', 'tkid': 'koookoo'}"
      ]
     },
     "execution_count": 13,
     "metadata": {},
     "output_type": "execute_result"
    }
   ],
   "source": [
    "#arbitrary arguments using numbers(kwargs)\n",
    "def my_function(**kids):\n",
    "    return kids\n",
    "\n",
    "my_function(fkid=\"ramu\",skid=\"kaku\",tkid=\"koookoo\")"
   ]
  },
  {
   "cell_type": "code",
   "execution_count": 1,
   "id": "4b7766f1",
   "metadata": {},
   "outputs": [
    {
     "name": "stdout",
     "output_type": "stream",
     "text": [
      "The youngest child is Linus\n"
     ]
    }
   ],
   "source": [
    "#keyword arguments\n",
    "def my_function(child3, child2, child1):\n",
    "  print(\"The youngest child is \" + child3)\n",
    "\n",
    "my_function(child1 = \"Emil\", child2 = \"Tobias\", child3 = \"Linus\")\n",
    "\n"
   ]
  },
  {
   "cell_type": "code",
   "execution_count": 11,
   "id": "6568f6c7",
   "metadata": {},
   "outputs": [
    {
     "name": "stdout",
     "output_type": "stream",
     "text": [
      "apple\n",
      "banana\n",
      "cherry\n",
      "mango\n"
     ]
    }
   ],
   "source": [
    "#Passing a List as an Argument\n",
    "def my_function(food):\n",
    "  for x in food:\n",
    "    print(x)\n",
    "\n",
    "fruits = [\"apple\", \"banana\", \"cherry\",\"mango\"]\n",
    "\n",
    "my_function(fruits)"
   ]
  },
  {
   "cell_type": "code",
   "execution_count": 3,
   "id": "3af44b4d",
   "metadata": {},
   "outputs": [
    {
     "name": "stdout",
     "output_type": "stream",
     "text": [
      "15\n",
      "25\n",
      "45\n"
     ]
    }
   ],
   "source": [
    "# return values\n",
    "def my_function(x):\n",
    "  return 5 * x\n",
    "\n",
    "print(my_function(3))\n",
    "print(my_function(5))\n",
    "print(my_function(9))"
   ]
  },
  {
   "cell_type": "code",
   "execution_count": 4,
   "id": "d801fac0",
   "metadata": {},
   "outputs": [],
   "source": [
    "#function definitions cannot be empty, but if you for some reason have a function definition with no content, put in the pass statement to avoid getting an error.\n",
    "def myfunction():\n",
    "  pass"
   ]
  },
  {
   "cell_type": "code",
   "execution_count": null,
   "id": "5a9ad248",
   "metadata": {},
   "outputs": [],
   "source": []
  }
 ],
 "metadata": {
  "kernelspec": {
   "display_name": "Python 3",
   "language": "python",
   "name": "python3"
  },
  "language_info": {
   "codemirror_mode": {
    "name": "ipython",
    "version": 3
   },
   "file_extension": ".py",
   "mimetype": "text/x-python",
   "name": "python",
   "nbconvert_exporter": "python",
   "pygments_lexer": "ipython3",
   "version": "3.8.8"
  }
 },
 "nbformat": 4,
 "nbformat_minor": 5
}
