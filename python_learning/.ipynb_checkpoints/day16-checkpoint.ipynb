{
 "cells": [
  {
   "cell_type": "code",
   "execution_count": 5,
   "id": "e874dd35",
   "metadata": {},
   "outputs": [
    {
     "name": "stdout",
     "output_type": "stream",
     "text": [
      "Enter the limit of N:10\n",
      "[3, 5, 6, 9, 10]\n"
     ]
    }
   ],
   "source": [
    "l=int(input(\"Enter the limit of N:\"))\n",
    "x=(l//3)+2\n",
    "list=[]\n",
    "a=0\n",
    "b=0\n",
    "count=1\n",
    "while x>0:\n",
    "    y=1\n",
    "    while y>0:\n",
    "        if count%2==0:\n",
    "            a=a+5\n",
    "            if a not in list:\n",
    "                list.append(a)\n",
    "            y=y-1\n",
    "            count=count+1\n",
    "        else:\n",
    "            b=b+3\n",
    "            if b not in list:\n",
    "                list.append(b)\n",
    "            y-y-1\n",
    "            count=count+1\n",
    "    x=x-1\n",
    "list.sort()\n",
    "print([x for x in list if x <=l])"
   ]
  },
  {
   "cell_type": "code",
   "execution_count": 13,
   "id": "8ca03d45",
   "metadata": {},
   "outputs": [
    {
     "data": {
      "text/plain": [
       "6"
      ]
     },
     "execution_count": 13,
     "metadata": {},
     "output_type": "execute_result"
    }
   ],
   "source": []
  },
  {
   "cell_type": "code",
   "execution_count": null,
   "id": "75590634",
   "metadata": {},
   "outputs": [],
   "source": []
  }
 ],
 "metadata": {
  "kernelspec": {
   "display_name": "Python 3 (ipykernel)",
   "language": "python",
   "name": "python3"
  },
  "language_info": {
   "codemirror_mode": {
    "name": "ipython",
    "version": 3
   },
   "file_extension": ".py",
   "mimetype": "text/x-python",
   "name": "python",
   "nbconvert_exporter": "python",
   "pygments_lexer": "ipython3",
   "version": "3.8.8"
  }
 },
 "nbformat": 4,
 "nbformat_minor": 5
}
