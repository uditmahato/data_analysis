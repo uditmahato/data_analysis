{
 "cells": [
  {
   "cell_type": "code",
   "execution_count": 3,
   "id": "dd7d415c",
   "metadata": {},
   "outputs": [
    {
     "name": "stdout",
     "output_type": "stream",
     "text": [
      "50\n"
     ]
    },
    {
     "ename": "NameError",
     "evalue": "name 'x' is not defined",
     "output_type": "error",
     "traceback": [
      "\u001b[0;31m---------------------------------------------------------------------------\u001b[0m",
      "\u001b[0;31mNameError\u001b[0m                                 Traceback (most recent call last)",
      "\u001b[0;32m<ipython-input-3-ac113a6b1aa9>\u001b[0m in \u001b[0;36m<module>\u001b[0;34m\u001b[0m\n\u001b[1;32m      6\u001b[0m     \u001b[0mprint\u001b[0m\u001b[0;34m(\u001b[0m\u001b[0mx\u001b[0m\u001b[0;34m)\u001b[0m\u001b[0;34m\u001b[0m\u001b[0;34m\u001b[0m\u001b[0m\n\u001b[1;32m      7\u001b[0m \u001b[0mcal\u001b[0m\u001b[0;34m(\u001b[0m\u001b[0;34m)\u001b[0m\u001b[0;34m\u001b[0m\u001b[0;34m\u001b[0m\u001b[0m\n\u001b[0;32m----> 8\u001b[0;31m \u001b[0mprint\u001b[0m\u001b[0;34m(\u001b[0m\u001b[0mx\u001b[0m\u001b[0;34m)\u001b[0m\u001b[0;34m\u001b[0m\u001b[0;34m\u001b[0m\u001b[0m\n\u001b[0m",
      "\u001b[0;31mNameError\u001b[0m: name 'x' is not defined"
     ]
    }
   ],
   "source": [
    "#Scope\n",
    "\n",
    "#local scope:a function or a variable wihin a function can only be used inside the function\n",
    "def cal():\n",
    "    x=50\n",
    "    print(x)\n",
    "cal()\n",
    "\n",
    "#canot be accessed from out side\n",
    "\n",
    "print(x)\n"
   ]
  },
  {
   "cell_type": "code",
   "execution_count": 7,
   "id": "a7140ac7",
   "metadata": {},
   "outputs": [
    {
     "name": "stdout",
     "output_type": "stream",
     "text": [
      "500\n"
     ]
    },
    {
     "ename": "NameError",
     "evalue": "name 'dic' is not defined",
     "output_type": "error",
     "traceback": [
      "\u001b[0;31m---------------------------------------------------------------------------\u001b[0m",
      "\u001b[0;31mNameError\u001b[0m                                 Traceback (most recent call last)",
      "\u001b[0;32m<ipython-input-7-acf2a279169d>\u001b[0m in \u001b[0;36m<module>\u001b[0;34m\u001b[0m\n\u001b[1;32m      8\u001b[0m \u001b[0;34m\u001b[0m\u001b[0m\n\u001b[1;32m      9\u001b[0m \u001b[0maddi\u001b[0m\u001b[0;34m(\u001b[0m\u001b[0;34m)\u001b[0m\u001b[0;34m\u001b[0m\u001b[0;34m\u001b[0m\u001b[0m\n\u001b[0;32m---> 10\u001b[0;31m \u001b[0mdic\u001b[0m\u001b[0;34m(\u001b[0m\u001b[0;34m)\u001b[0m\u001b[0;34m\u001b[0m\u001b[0;34m\u001b[0m\u001b[0m\n\u001b[0m",
      "\u001b[0;31mNameError\u001b[0m: name 'dic' is not defined"
     ]
    }
   ],
   "source": [
    "#function isnide a function can be only accessed when it is inside the function\n",
    "def addi():\n",
    "    x=50\n",
    "    def dic():\n",
    "        y=500\n",
    "        print(y)\n",
    "    dic()\n",
    "\n",
    "addi()\n",
    "dic()\n"
   ]
  },
  {
   "cell_type": "code",
   "execution_count": 8,
   "id": "5b938d74",
   "metadata": {},
   "outputs": [
    {
     "name": "stdout",
     "output_type": "stream",
     "text": [
      "112.0\n"
     ]
    }
   ],
   "source": [
    "#global variable outside the function\n",
    "x=560\n",
    "\n",
    "def divv():\n",
    "    print(x/5)\n",
    "divv()"
   ]
  },
  {
   "cell_type": "code",
   "execution_count": 10,
   "id": "23c3e235",
   "metadata": {},
   "outputs": [
    {
     "name": "stdout",
     "output_type": "stream",
     "text": [
      "800\n"
     ]
    }
   ],
   "source": [
    "#naming variables (if global and local variable coincide)\n",
    "\n",
    "a=8\n",
    "def addd():\n",
    "    a=800\n",
    "    print(a)\n",
    "\n",
    "addd()"
   ]
  },
  {
   "cell_type": "code",
   "execution_count": 14,
   "id": "f5ff6a19",
   "metadata": {},
   "outputs": [
    {
     "name": "stdout",
     "output_type": "stream",
     "text": [
      "600\n",
      "600\n"
     ]
    }
   ],
   "source": [
    "#global keyword can be used to declare global variable inside the function\n",
    "\n",
    "def test():\n",
    "    global x\n",
    "    x=600\n",
    "    print(x)\n",
    "test()\n",
    "print(x)"
   ]
  },
  {
   "cell_type": "code",
   "execution_count": 15,
   "id": "a093492a",
   "metadata": {},
   "outputs": [
    {
     "name": "stdout",
     "output_type": "stream",
     "text": [
      "200\n"
     ]
    }
   ],
   "source": [
    "#global keyword can also be used to update variable inside the function\n",
    "x = 300\n",
    "\n",
    "def myfunc():\n",
    "    global x\n",
    "  x = 200\n",
    "\n",
    "myfunc()\n",
    "\n",
    "print(x)\n"
   ]
  },
  {
   "cell_type": "code",
   "execution_count": 20,
   "id": "d334e38f",
   "metadata": {},
   "outputs": [
    {
     "data": {
      "text/plain": [
       "1.3169578969248166"
      ]
     },
     "execution_count": 20,
     "metadata": {},
     "output_type": "execute_result"
    }
   ],
   "source": [
    "#math module\n",
    "import math\n",
    "math.acos(0.55)"
   ]
  },
  {
   "cell_type": "code",
   "execution_count": 21,
   "id": "5cbfa557",
   "metadata": {},
   "outputs": [
    {
     "data": {
      "text/plain": [
       "1.3169578969248166"
      ]
     },
     "execution_count": 21,
     "metadata": {},
     "output_type": "execute_result"
    }
   ],
   "source": [
    "#Returns the inverse hyperbolic cosine of a number\n",
    "math.acosh(2)"
   ]
  },
  {
   "cell_type": "code",
   "execution_count": 22,
   "id": "9c595328",
   "metadata": {},
   "outputs": [
    {
     "data": {
      "text/plain": [
       "68"
      ]
     },
     "execution_count": 22,
     "metadata": {},
     "output_type": "execute_result"
    }
   ],
   "source": [
    "#Rounds a number up to the nearest integer\n",
    "math.ceil(67.99098)"
   ]
  },
  {
   "cell_type": "code",
   "execution_count": 23,
   "id": "a2833e74",
   "metadata": {},
   "outputs": [
    {
     "data": {
      "text/plain": [
       "515.662015617741"
      ]
     },
     "execution_count": 23,
     "metadata": {},
     "output_type": "execute_result"
    }
   ],
   "source": [
    "#radians into degrees\n",
    "math.degrees(27/3)"
   ]
  },
  {
   "cell_type": "code",
   "execution_count": 24,
   "id": "e013ff79",
   "metadata": {},
   "outputs": [
    {
     "data": {
      "text/plain": [
       "0.9999999999984626"
      ]
     },
     "execution_count": 24,
     "metadata": {},
     "output_type": "execute_result"
    }
   ],
   "source": [
    "#Returns the error function of a number\n",
    "math.erf(5)"
   ]
  },
  {
   "cell_type": "code",
   "execution_count": 50,
   "id": "15b24412",
   "metadata": {},
   "outputs": [],
   "source": [
    "#Returns E raised to the power of x\n",
    "math.exp(4)"
   ]
  },
  {
   "cell_type": "code",
   "execution_count": 27,
   "id": "6cbd6931",
   "metadata": {},
   "outputs": [
    {
     "data": {
      "text/plain": [
       "56.0"
      ]
     },
     "execution_count": 27,
     "metadata": {},
     "output_type": "execute_result"
    }
   ],
   "source": [
    "#Returns the absolute value of a number\n",
    "math.fabs(-56)"
   ]
  },
  {
   "cell_type": "code",
   "execution_count": 29,
   "id": "58928274",
   "metadata": {},
   "outputs": [
    {
     "data": {
      "text/plain": [
       "479001600"
      ]
     },
     "execution_count": 29,
     "metadata": {},
     "output_type": "execute_result"
    }
   ],
   "source": [
    "#factorial\n",
    "math.factorial(12)"
   ]
  },
  {
   "cell_type": "code",
   "execution_count": 33,
   "id": "a220db2d",
   "metadata": {},
   "outputs": [
    {
     "data": {
      "text/plain": [
       "1.0"
      ]
     },
     "execution_count": 33,
     "metadata": {},
     "output_type": "execute_result"
    }
   ],
   "source": [
    "#Returns the remainder of x/y\n",
    "math.fmod(10,3)"
   ]
  },
  {
   "cell_type": "code",
   "execution_count": 32,
   "id": "af162b27",
   "metadata": {},
   "outputs": [
    {
     "data": {
      "text/plain": [
       "22.0"
      ]
     },
     "execution_count": 32,
     "metadata": {},
     "output_type": "execute_result"
    }
   ],
   "source": [
    "#find euler distance\n",
    "math.dist([45],[67])"
   ]
  },
  {
   "cell_type": "code",
   "execution_count": 51,
   "id": "4e5a4f2d",
   "metadata": {},
   "outputs": [],
   "source": [
    "#find the square root\n",
    "math.sqrt(10)"
   ]
  },
  {
   "cell_type": "code",
   "execution_count": 35,
   "id": "f8143101",
   "metadata": {},
   "outputs": [
    {
     "data": {
      "text/plain": [
       "3"
      ]
     },
     "execution_count": 35,
     "metadata": {},
     "output_type": "execute_result"
    }
   ],
   "source": [
    "#find square root to nearest integer\n",
    "math.isqrt(10)"
   ]
  },
  {
   "cell_type": "code",
   "execution_count": 36,
   "id": "d4ef5220",
   "metadata": {},
   "outputs": [
    {
     "data": {
      "text/plain": [
       "2.302585092994046"
      ]
     },
     "execution_count": 36,
     "metadata": {},
     "output_type": "execute_result"
    }
   ],
   "source": [
    "#Returns the natural logarithm of a number, or the logarithm of number to base\n",
    "math.log(10)"
   ]
  },
  {
   "cell_type": "code",
   "execution_count": 37,
   "id": "ac7955d2",
   "metadata": {},
   "outputs": [
    {
     "data": {
      "text/plain": [
       "1.0"
      ]
     },
     "execution_count": 37,
     "metadata": {},
     "output_type": "execute_result"
    }
   ],
   "source": [
    "\n",
    "#Returns the base-10 logarithm of x\n",
    "math.log10(10)"
   ]
  },
  {
   "cell_type": "code",
   "execution_count": 41,
   "id": "3eb78bb4",
   "metadata": {},
   "outputs": [
    {
     "data": {
      "text/plain": [
       "2.3978952727983707"
      ]
     },
     "execution_count": 41,
     "metadata": {},
     "output_type": "execute_result"
    }
   ],
   "source": [
    "#Returns the natural logarithm of 1+x\n",
    "math.log1p(10)"
   ]
  },
  {
   "cell_type": "code",
   "execution_count": 42,
   "id": "f6459f94",
   "metadata": {},
   "outputs": [
    {
     "data": {
      "text/plain": [
       "1024.0"
      ]
     },
     "execution_count": 42,
     "metadata": {},
     "output_type": "execute_result"
    }
   ],
   "source": [
    "#Returns the base-2 logarithm of x\n",
    "math.pow(4,5)"
   ]
  },
  {
   "cell_type": "code",
   "execution_count": 43,
   "id": "363f034a",
   "metadata": {},
   "outputs": [
    {
     "name": "stdout",
     "output_type": "stream",
     "text": [
      "2.718281828459045\n"
     ]
    }
   ],
   "source": [
    "#math contsants\n",
    "print(math.e)"
   ]
  },
  {
   "cell_type": "code",
   "execution_count": 47,
   "id": "d37b3e33",
   "metadata": {},
   "outputs": [
    {
     "name": "stdout",
     "output_type": "stream",
     "text": [
      "inf\n"
     ]
    }
   ],
   "source": [
    "import math\n",
    "print(math.inf)"
   ]
  },
  {
   "cell_type": "code",
   "execution_count": 45,
   "id": "3a8089e1",
   "metadata": {},
   "outputs": [
    {
     "data": {
      "text/plain": [
       "nan"
      ]
     },
     "execution_count": 45,
     "metadata": {},
     "output_type": "execute_result"
    }
   ],
   "source": [
    "math.nan"
   ]
  },
  {
   "cell_type": "code",
   "execution_count": 48,
   "id": "9339bf13",
   "metadata": {},
   "outputs": [
    {
     "data": {
      "text/plain": [
       "3.141592653589793"
      ]
     },
     "execution_count": 48,
     "metadata": {},
     "output_type": "execute_result"
    }
   ],
   "source": [
    "math.pi"
   ]
  },
  {
   "cell_type": "code",
   "execution_count": 49,
   "id": "db698078",
   "metadata": {},
   "outputs": [
    {
     "data": {
      "text/plain": [
       "6.283185307179586"
      ]
     },
     "execution_count": 49,
     "metadata": {},
     "output_type": "execute_result"
    }
   ],
   "source": [
    "math.tau"
   ]
  },
  {
   "cell_type": "code",
   "execution_count": 53,
   "id": "07ad8fcf",
   "metadata": {},
   "outputs": [
    {
     "name": "stdout",
     "output_type": "stream",
     "text": [
      "750\n"
     ]
    }
   ],
   "source": [
    "#module can be saved with .py extension and imported in a program\n",
    "import addition as ad\n",
    "ad.addon(5,10)"
   ]
  },
  {
   "cell_type": "code",
   "execution_count": 55,
   "id": "b0752a0b",
   "metadata": {},
   "outputs": [
    {
     "data": {
      "text/plain": [
       "['__builtins__',\n",
       " '__cached__',\n",
       " '__doc__',\n",
       " '__file__',\n",
       " '__loader__',\n",
       " '__name__',\n",
       " '__package__',\n",
       " '__spec__',\n",
       " 'addon']"
      ]
     },
     "execution_count": 55,
     "metadata": {},
     "output_type": "execute_result"
    }
   ],
   "source": [
    "import addition\n",
    "#List all the defined names belonging to the platform module\n",
    "dir(addition)"
   ]
  },
  {
   "cell_type": "code",
   "execution_count": null,
   "id": "ed0bf586",
   "metadata": {},
   "outputs": [],
   "source": []
  }
 ],
 "metadata": {
  "kernelspec": {
   "display_name": "Python 3",
   "language": "python",
   "name": "python3"
  },
  "language_info": {
   "codemirror_mode": {
    "name": "ipython",
    "version": 3
   },
   "file_extension": ".py",
   "mimetype": "text/x-python",
   "name": "python",
   "nbconvert_exporter": "python",
   "pygments_lexer": "ipython3",
   "version": "3.8.8"
  }
 },
 "nbformat": 4,
 "nbformat_minor": 5
}
