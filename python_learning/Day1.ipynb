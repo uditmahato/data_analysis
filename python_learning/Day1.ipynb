{
 "cells": [
  {
   "cell_type": "markdown",
   "id": "58917056",
   "metadata": {},
   "source": [
    "# Day 1 Contains:\n",
    "### 1.Basic Concepts\n",
    "### 2.Variables\n",
    "### 3.Datatypes\n",
    "### 4.String \n",
    "### 5.Loops\n",
    "### 6.Conditions"
   ]
  },
  {
   "cell_type": "code",
   "execution_count": 1,
   "id": "c33bb313",
   "metadata": {},
   "outputs": [
    {
     "name": "stdout",
     "output_type": "stream",
     "text": [
      "Day one practice\n"
     ]
    }
   ],
   "source": [
    "#Syntax\n",
    "print(\"Day one practice\")"
   ]
  },
  {
   "cell_type": "code",
   "execution_count": 2,
   "id": "cd2fe77e",
   "metadata": {},
   "outputs": [],
   "source": [
    "# Python Variables\n",
    "x=6\n",
    "y=\"udit\"\n",
    "z=5.5\n"
   ]
  },
  {
   "cell_type": "code",
   "execution_count": 5,
   "id": "8be7fc0d",
   "metadata": {},
   "outputs": [
    {
     "data": {
      "text/plain": [
       "1"
      ]
     },
     "execution_count": 5,
     "metadata": {},
     "output_type": "execute_result"
    }
   ],
   "source": [
    "#assigning multiple values\n",
    "x,y,z=1,2,3\n",
    "x"
   ]
  },
  {
   "cell_type": "code",
   "execution_count": 10,
   "id": "3f6d9f3a",
   "metadata": {},
   "outputs": [
    {
     "name": "stdout",
     "output_type": "stream",
     "text": [
      "This is bom\n",
      "1 2 3\n",
      "Thisisbom\n"
     ]
    }
   ],
   "source": [
    "#Output variables\n",
    "a=\"This\"\n",
    "b=\"is\"\n",
    "c=\"bom\"\n",
    "print(a,b,c)\n",
    "print(x,y,z)\n",
    "print(a+b+c)"
   ]
  },
  {
   "cell_type": "code",
   "execution_count": 12,
   "id": "835d0219",
   "metadata": {},
   "outputs": [
    {
     "name": "stdout",
     "output_type": "stream",
     "text": [
      "The total cost will be  50\n"
     ]
    }
   ],
   "source": [
    "#Global variable\n",
    "\"\"\"For this either we can assign the variable outside the function or use global keyword insite function\"\"\"\n",
    "x=50\n",
    "def totalPrice():\n",
    "    print(\"The total cost will be \",x)\n",
    "totalPrice()\n"
   ]
  },
  {
   "cell_type": "code",
   "execution_count": 17,
   "id": "585425b6",
   "metadata": {},
   "outputs": [
    {
     "name": "stdout",
     "output_type": "stream",
     "text": [
      "50000\n",
      "50000 is the salary\n"
     ]
    }
   ],
   "source": [
    "#using global key word\n",
    "def salary():\n",
    "    global x\n",
    "    x= 50000\n",
    "    print(x)\n",
    "salary()\n",
    "\n",
    "print(x,\"is the salary\")"
   ]
  },
  {
   "cell_type": "code",
   "execution_count": 18,
   "id": "f3f23fba",
   "metadata": {},
   "outputs": [],
   "source": [
    "#variable names\n",
    "#we can use snake case or camal case starting with letters or underscore in python\n",
    "my_var=25\n",
    "_x_=500\n",
    "var=67"
   ]
  },
  {
   "cell_type": "code",
   "execution_count": 35,
   "id": "df9164e5",
   "metadata": {},
   "outputs": [],
   "source": [
    "##Data Types\n",
    "a=\"Hello,World!\" #String\n",
    "b=25             #int\n",
    "c=5.5            #Float \n",
    "d={1:1,2:4,3:9} #Dictionary\n",
    "e=('a','b','c','d','e')    #tuple\n",
    "f={'a','b','c','d','e','f'}  #set\n",
    "g=frozenset({'a','b','c','d','e','f'}) #frozenset\n",
    "h=range(7)     #range\n",
    "i=b\"Hello\"    #byte\n",
    "j=True        #bool"
   ]
  },
  {
   "cell_type": "code",
   "execution_count": 36,
   "id": "ce3af08c",
   "metadata": {},
   "outputs": [
    {
     "name": "stdout",
     "output_type": "stream",
     "text": [
      "Hello,World!\n",
      "25\n",
      "5.5\n",
      "{1: 1, 2: 4, 3: 9}\n",
      "('a', 'b', 'c', 'd', 'e')\n",
      "{'b', 'a', 'c', 'f', 'd', 'e'}\n",
      "frozenset({'f', 'd', 'b', 'e', 'a', 'c'})\n",
      "range(0, 7)\n",
      "b'Hello'\n",
      "True\n"
     ]
    }
   ],
   "source": [
    "dic=[a,b,c,d,e,f,g,h,i,j]\n",
    "for i in dic:\n",
    "    print(i)"
   ]
  },
  {
   "cell_type": "code",
   "execution_count": 37,
   "id": "f6f05572",
   "metadata": {},
   "outputs": [
    {
     "name": "stdout",
     "output_type": "stream",
     "text": [
      "<class 'str'>\n",
      "<class 'int'>\n",
      "<class 'float'>\n",
      "<class 'dict'>\n",
      "<class 'tuple'>\n",
      "<class 'set'>\n",
      "<class 'frozenset'>\n",
      "<class 'range'>\n",
      "<class 'bool'>\n",
      "<class 'bool'>\n"
     ]
    }
   ],
   "source": [
    "dic=[a,b,c,d,e,f,g,h,i,j]\n",
    "for i in dic:\n",
    "    print(type(i))"
   ]
  },
  {
   "cell_type": "code",
   "execution_count": 39,
   "id": "8487186c",
   "metadata": {},
   "outputs": [
    {
     "data": {
      "text/plain": [
       "500000.0"
      ]
     },
     "execution_count": 39,
     "metadata": {},
     "output_type": "execute_result"
    }
   ],
   "source": [
    "#Number representation\n",
    "\n",
    "x=5E5       #e can be used for the power 10\n",
    "x"
   ]
  },
  {
   "cell_type": "code",
   "execution_count": 42,
   "id": "2b3813cb",
   "metadata": {},
   "outputs": [
    {
     "name": "stdout",
     "output_type": "stream",
     "text": [
      "83187\n"
     ]
    }
   ],
   "source": [
    "# write a program to generate random number\n",
    "import random\n",
    "print(random.randrange(80000,90000))"
   ]
  },
  {
   "cell_type": "code",
   "execution_count": 43,
   "id": "1e3fbbf6",
   "metadata": {},
   "outputs": [
    {
     "name": "stdout",
     "output_type": "stream",
     "text": [
      "<class 'int'>\n",
      "<class 'str'>\n"
     ]
    }
   ],
   "source": [
    "\n",
    "##Casting\n",
    "\n",
    "x=5    #for now this is integer\n",
    "y=str(x)  #now this is string\n",
    "print(type(x))\n",
    "print(type(y))"
   ]
  },
  {
   "cell_type": "markdown",
   "id": "f2db1473",
   "metadata": {},
   "source": [
    "# String"
   ]
  },
  {
   "cell_type": "code",
   "execution_count": 59,
   "id": "21197bd9",
   "metadata": {},
   "outputs": [
    {
     "data": {
      "text/plain": [
       "'This boy is \\n  quite intelligent'"
      ]
     },
     "execution_count": 59,
     "metadata": {},
     "output_type": "execute_result"
    }
   ],
   "source": [
    "#Multiline string\n",
    "x=\"\"\"This boy is \n",
    "  quite intelligent\"\"\"\n",
    "x"
   ]
  },
  {
   "cell_type": "code",
   "execution_count": 60,
   "id": "d4af70fc",
   "metadata": {},
   "outputs": [],
   "source": [
    "a=\"Thi boy is fucking kidding\""
   ]
  },
  {
   "cell_type": "code",
   "execution_count": 61,
   "id": "ebe27b09",
   "metadata": {},
   "outputs": [
    {
     "data": {
      "text/plain": [
       "26"
      ]
     },
     "execution_count": 61,
     "metadata": {},
     "output_type": "execute_result"
    }
   ],
   "source": [
    "len(a)"
   ]
  },
  {
   "cell_type": "code",
   "execution_count": 62,
   "id": "cc826143",
   "metadata": {},
   "outputs": [
    {
     "data": {
      "text/plain": [
       "'hi b'"
      ]
     },
     "execution_count": 62,
     "metadata": {},
     "output_type": "execute_result"
    }
   ],
   "source": [
    "#String are arrays in python SO SLICING CAN be done\n",
    "\n",
    "a[1:5]\n"
   ]
  },
  {
   "cell_type": "code",
   "execution_count": 63,
   "id": "9cb66822",
   "metadata": {},
   "outputs": [
    {
     "name": "stdout",
     "output_type": "stream",
     "text": [
      "You were correct\n",
      "Bastard Get lost\n"
     ]
    }
   ],
   "source": [
    "# lets check whether the element is present in the  string or not\n",
    "if 'boy' in a:\n",
    "    print(\"You were correct\")\n",
    "if 'girl' not in a:\n",
    "    print(\"Bastard Get lost\")\n"
   ]
  },
  {
   "cell_type": "code",
   "execution_count": 64,
   "id": "99fcb76a",
   "metadata": {},
   "outputs": [],
   "source": [
    "#Modify string\n",
    "aa=a.upper()\n",
    "ab=a.lower()\n",
    "ac=a.replace('boy','girl')\n",
    "ad=a.strip()     #remove white cases\n",
    "ae=a.split((\"is\"))"
   ]
  },
  {
   "cell_type": "code",
   "execution_count": 65,
   "id": "35b5a0e2",
   "metadata": {},
   "outputs": [
    {
     "name": "stdout",
     "output_type": "stream",
     "text": [
      "THI BOY IS FUCKING KIDDING\n",
      "thi boy is fucking kidding\n",
      "Thi girl is fucking kidding\n",
      "Thi boy is fucking kidding\n",
      "['Thi boy ', ' fucking kidding']\n"
     ]
    }
   ],
   "source": [
    "print(aa)\n",
    "print(ab)\n",
    "print(ac)\n",
    "print(ad)\n",
    "print(ae)"
   ]
  },
  {
   "cell_type": "markdown",
   "id": "b907dad8",
   "metadata": {},
   "source": [
    "## We cannot add string and Integer so we can use string formatting "
   ]
  },
  {
   "cell_type": "code",
   "execution_count": 66,
   "id": "784693a5",
   "metadata": {},
   "outputs": [],
   "source": [
    "nose=1\n",
    "ear=2\n",
    "eyes=5\n",
    "txt=\"I have {} nose ,{} ear and {} eyes\"\n",
    "print(txt.format())"
   ]
  },
  {
   "cell_type": "code",
   "execution_count": null,
   "id": "6ca7774a",
   "metadata": {},
   "outputs": [],
   "source": []
  }
 ],
 "metadata": {
  "kernelspec": {
   "display_name": "Python 3",
   "language": "python",
   "name": "python3"
  },
  "language_info": {
   "codemirror_mode": {
    "name": "ipython",
    "version": 3
   },
   "file_extension": ".py",
   "mimetype": "text/x-python",
   "name": "python",
   "nbconvert_exporter": "python",
   "pygments_lexer": "ipython3",
   "version": "3.8.8"
  }
 },
 "nbformat": 4,
 "nbformat_minor": 5
}
