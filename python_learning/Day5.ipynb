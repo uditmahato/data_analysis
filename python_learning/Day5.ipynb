{
 "cells": [
  {
   "cell_type": "code",
   "execution_count": 2,
   "id": "bb4e9fad",
   "metadata": {},
   "outputs": [],
   "source": [
    "#Creating class in python\n",
    "class myClass:\n",
    "    x=5"
   ]
  },
  {
   "cell_type": "code",
   "execution_count": 3,
   "id": "655242e7",
   "metadata": {},
   "outputs": [
    {
     "name": "stdout",
     "output_type": "stream",
     "text": [
      "5\n"
     ]
    }
   ],
   "source": [
    "#creating object\n",
    "o1=myClass()\n",
    "print(o1.x)"
   ]
  },
  {
   "cell_type": "code",
   "execution_count": 5,
   "id": "a3e3e896",
   "metadata": {},
   "outputs": [
    {
     "name": "stdout",
     "output_type": "stream",
     "text": [
      "udit\n",
      "tikathali\n"
     ]
    }
   ],
   "source": [
    "#real oop\n",
    "#every class has a function called __init___ which always gets executed first when it is initialized\n",
    "class details:\n",
    "    def __init__(self,name,address):\n",
    "        self.name=name\n",
    "        self.address=address\n",
    "d=details(\"udit\",\"tikathali\")\n",
    "print(d.name)\n",
    "print(d.address)\n",
    "        "
   ]
  },
  {
   "cell_type": "code",
   "execution_count": 8,
   "id": "e59ac9fd",
   "metadata": {},
   "outputs": [
    {
     "name": "stdout",
     "output_type": "stream",
     "text": [
      "udit\n",
      "tikathali\n",
      "my name is udit\n"
     ]
    }
   ],
   "source": [
    "# addd fuction that executes greetings\n",
    "class details:\n",
    "    def __init__(self,name,address):\n",
    "        self.name=name\n",
    "        self.address=address\n",
    "    def pr(self):\n",
    "        print(\"my name is\",self.name)\n",
    "d=details(\"udit\",\"tikathali\")\n",
    "print(d.name)\n",
    "print(d.address)\n",
    "d.pr()"
   ]
  },
  {
   "cell_type": "code",
   "execution_count": null,
   "id": "5c431d94",
   "metadata": {},
   "outputs": [],
   "source": []
  }
 ],
 "metadata": {
  "kernelspec": {
   "display_name": "Python 3",
   "language": "python",
   "name": "python3"
  },
  "language_info": {
   "codemirror_mode": {
    "name": "ipython",
    "version": 3
   },
   "file_extension": ".py",
   "mimetype": "text/x-python",
   "name": "python",
   "nbconvert_exporter": "python",
   "pygments_lexer": "ipython3",
   "version": "3.8.8"
  }
 },
 "nbformat": 4,
 "nbformat_minor": 5
}
