{
 "cells": [
  {
   "cell_type": "code",
   "execution_count": 2,
   "id": "e5af6f3b",
   "metadata": {},
   "outputs": [],
   "source": [
    "#Creating class in python\n",
    "class myClass:\n",
    "    x=5"
   ]
  },
  {
   "cell_type": "code",
   "execution_count": 3,
   "id": "010f5eb3",
   "metadata": {},
   "outputs": [
    {
     "name": "stdout",
     "output_type": "stream",
     "text": [
      "5\n"
     ]
    }
   ],
   "source": [
    "#creating object\n",
    "o1=myClass()\n",
    "print(o1.x)"
   ]
  },
  {
   "cell_type": "code",
   "execution_count": null,
   "id": "04a5eeb1",
   "metadata": {},
   "outputs": [],
   "source": []
  }
 ],
 "metadata": {
  "kernelspec": {
   "display_name": "Python 3",
   "language": "python",
   "name": "python3"
  },
  "language_info": {
   "codemirror_mode": {
    "name": "ipython",
    "version": 3
   },
   "file_extension": ".py",
   "mimetype": "text/x-python",
   "name": "python",
   "nbconvert_exporter": "python",
   "pygments_lexer": "ipython3",
   "version": "3.8.8"
  }
 },
 "nbformat": 4,
 "nbformat_minor": 5
}
