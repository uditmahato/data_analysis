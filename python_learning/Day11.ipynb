{
 "cells": [
  {
   "cell_type": "code",
   "execution_count": 5,
   "id": "bd30b0bb",
   "metadata": {},
   "outputs": [
    {
     "data": {
      "text/plain": [
       "True"
      ]
     },
     "execution_count": 5,
     "metadata": {},
     "output_type": "execute_result"
    }
   ],
   "source": [
    "def fashionably_late(arrivals, name):\n",
    "    \"\"\"Given an ordered list of arrivals to the party and a name, return whether the guest with that\n",
    "    name was fashionably late.\n",
    "    \"\"\"\n",
    "    if name==arrivals[-1]:\n",
    "        return True\n",
    "    elif name==arrivals[-2]:\n",
    "        return True\n",
    "    else:\n",
    "        return False\n",
    "x=['Adela', 'Fleda', 'Owen', 'May', 'Mona', 'Gilbert', 'Ford']\n",
    "name='Ford'\n",
    "fashionably_late(x,name)"
   ]
  },
  {
   "cell_type": "code",
   "execution_count": 4,
   "id": "39f729df",
   "metadata": {},
   "outputs": [
    {
     "name": "stdout",
     "output_type": "stream",
     "text": [
      "True\n"
     ]
    },
    {
     "data": {
      "text/plain": [
       "'Ford'"
      ]
     },
     "execution_count": 4,
     "metadata": {},
     "output_type": "execute_result"
    }
   ],
   "source": [
    "arrivals=['Adela', 'Fleda', 'Owen', 'May', 'Mona', 'Gilbert', 'Ford']\n",
    "name='Ford'\n",
    "if name==arrivals[-1]:\n",
    "    print(True)\n",
    "elif name==arrivals[-2]:\n",
    "    print(True)\n",
    "else:\n",
    "    print(False)\n",
    "arrivals[-1]"
   ]
  },
  {
   "cell_type": "code",
   "execution_count": 6,
   "id": "534474b2",
   "metadata": {},
   "outputs": [
    {
     "data": {
      "text/plain": [
       "['Adela', 'Fleda', 'Owen', 'May', 'Mona', 'Gilbert', 'Ford']"
      ]
     },
     "execution_count": 6,
     "metadata": {},
     "output_type": "execute_result"
    }
   ],
   "source": [
    "#methods of list\n",
    "\n",
    "#list are mutable and unordered\n",
    "x"
   ]
  },
  {
   "cell_type": "code",
   "execution_count": 10,
   "id": "06d60eb0",
   "metadata": {},
   "outputs": [
    {
     "data": {
      "text/plain": [
       "['Adela',\n",
       " 'Fleda',\n",
       " 'Owen',\n",
       " 'May',\n",
       " 'Mona',\n",
       " 'Gilbert',\n",
       " 'Ford',\n",
       " 'lola',\n",
       " 'lola',\n",
       " 'lola']"
      ]
     },
     "execution_count": 10,
     "metadata": {},
     "output_type": "execute_result"
    }
   ],
   "source": [
    "x.append(\"lola\")   ##adds element at last\n",
    "x"
   ]
  },
  {
   "cell_type": "code",
   "execution_count": 18,
   "id": "ed6627ba",
   "metadata": {},
   "outputs": [
    {
     "data": {
      "text/plain": [
       "3"
      ]
     },
     "execution_count": 18,
     "metadata": {},
     "output_type": "execute_result"
    }
   ],
   "source": [
    "x.count('lola')   #count an object in list"
   ]
  },
  {
   "cell_type": "code",
   "execution_count": 19,
   "id": "4a06629a",
   "metadata": {},
   "outputs": [],
   "source": [
    "x.extend(\"hello\")   #extend is used to add whole list"
   ]
  },
  {
   "cell_type": "code",
   "execution_count": 20,
   "id": "75ce5fa3",
   "metadata": {},
   "outputs": [
    {
     "data": {
      "text/plain": [
       "['Adela',\n",
       " 'Fleda',\n",
       " 'Owen',\n",
       " 'May',\n",
       " 'Mona',\n",
       " 'Gilbert',\n",
       " 'Ford',\n",
       " 'lola',\n",
       " 'lola',\n",
       " 'lola',\n",
       " 'h',\n",
       " 'e',\n",
       " 'l',\n",
       " 'l',\n",
       " 'o']"
      ]
     },
     "execution_count": 20,
     "metadata": {},
     "output_type": "execute_result"
    }
   ],
   "source": [
    "x"
   ]
  },
  {
   "cell_type": "code",
   "execution_count": 21,
   "id": "0677560f",
   "metadata": {},
   "outputs": [
    {
     "name": "stdout",
     "output_type": "stream",
     "text": [
      "['Adela', 'Fleda', 'Owen', 'May', 'Mona', 'Gilbert', 'Ford', 'lola', 'lola', 'lola', 'h', 'e', 'l', 'l', 'o']\n"
     ]
    }
   ],
   "source": [
    "print(x)"
   ]
  },
  {
   "cell_type": "code",
   "execution_count": 22,
   "id": "c385a3a8",
   "metadata": {},
   "outputs": [
    {
     "data": {
      "text/plain": [
       "7"
      ]
     },
     "execution_count": 22,
     "metadata": {},
     "output_type": "execute_result"
    }
   ],
   "source": [
    "x.index('lola')"
   ]
  },
  {
   "cell_type": "code",
   "execution_count": 24,
   "id": "d245feeb",
   "metadata": {},
   "outputs": [],
   "source": [
    "x.insert(5,'udit')"
   ]
  },
  {
   "cell_type": "code",
   "execution_count": 25,
   "id": "3344c0a7",
   "metadata": {},
   "outputs": [
    {
     "data": {
      "text/plain": [
       "['Adela',\n",
       " 'Fleda',\n",
       " 'Owen',\n",
       " 'May',\n",
       " 'Mona',\n",
       " 'udit',\n",
       " 'Gilbert',\n",
       " 'Ford',\n",
       " 'lola',\n",
       " 'lola',\n",
       " 'lola',\n",
       " 'h',\n",
       " 'e',\n",
       " 'l',\n",
       " 'l',\n",
       " 'o']"
      ]
     },
     "execution_count": 25,
     "metadata": {},
     "output_type": "execute_result"
    }
   ],
   "source": [
    "x"
   ]
  },
  {
   "cell_type": "code",
   "execution_count": 27,
   "id": "ac3a56ce",
   "metadata": {},
   "outputs": [],
   "source": [
    "x.reverse()"
   ]
  },
  {
   "cell_type": "code",
   "execution_count": 28,
   "id": "7605c26a",
   "metadata": {},
   "outputs": [
    {
     "data": {
      "text/plain": [
       "['o',\n",
       " 'l',\n",
       " 'l',\n",
       " 'e',\n",
       " 'h',\n",
       " 'lola',\n",
       " 'lola',\n",
       " 'lola',\n",
       " 'Ford',\n",
       " 'Gilbert',\n",
       " 'udit',\n",
       " 'Mona',\n",
       " 'May',\n",
       " 'Owen',\n",
       " 'Fleda',\n",
       " 'Adela']"
      ]
     },
     "execution_count": 28,
     "metadata": {},
     "output_type": "execute_result"
    }
   ],
   "source": [
    "x"
   ]
  },
  {
   "cell_type": "code",
   "execution_count": 29,
   "id": "9ee4b529",
   "metadata": {},
   "outputs": [],
   "source": [
    "x.sort()"
   ]
  },
  {
   "cell_type": "code",
   "execution_count": 30,
   "id": "33ba1ef0",
   "metadata": {},
   "outputs": [
    {
     "data": {
      "text/plain": [
       "['Adela',\n",
       " 'Fleda',\n",
       " 'Ford',\n",
       " 'Gilbert',\n",
       " 'May',\n",
       " 'Mona',\n",
       " 'Owen',\n",
       " 'e',\n",
       " 'h',\n",
       " 'l',\n",
       " 'l',\n",
       " 'lola',\n",
       " 'lola',\n",
       " 'lola',\n",
       " 'o',\n",
       " 'udit']"
      ]
     },
     "execution_count": 30,
     "metadata": {},
     "output_type": "execute_result"
    }
   ],
   "source": [
    "x"
   ]
  },
  {
   "cell_type": "code",
   "execution_count": 31,
   "id": "6c09022e",
   "metadata": {},
   "outputs": [
    {
     "data": {
      "text/plain": [
       "'udit'"
      ]
     },
     "execution_count": 31,
     "metadata": {},
     "output_type": "execute_result"
    }
   ],
   "source": [
    "x.pop()"
   ]
  },
  {
   "cell_type": "code",
   "execution_count": 34,
   "id": "af5404dd",
   "metadata": {},
   "outputs": [],
   "source": [
    "x.remove('lola')"
   ]
  },
  {
   "cell_type": "code",
   "execution_count": 35,
   "id": "608f339d",
   "metadata": {},
   "outputs": [
    {
     "data": {
      "text/plain": [
       "['Adela',\n",
       " 'Fleda',\n",
       " 'Ford',\n",
       " 'Gilbert',\n",
       " 'May',\n",
       " 'Mona',\n",
       " 'Owen',\n",
       " 'e',\n",
       " 'h',\n",
       " 'l',\n",
       " 'l',\n",
       " 'lola',\n",
       " 'o']"
      ]
     },
     "execution_count": 35,
     "metadata": {},
     "output_type": "execute_result"
    }
   ],
   "source": [
    "x"
   ]
  },
  {
   "cell_type": "code",
   "execution_count": null,
   "id": "06fd99a3",
   "metadata": {},
   "outputs": [],
   "source": []
  }
 ],
 "metadata": {
  "kernelspec": {
   "display_name": "Python 3",
   "language": "python",
   "name": "python3"
  },
  "language_info": {
   "codemirror_mode": {
    "name": "ipython",
    "version": 3
   },
   "file_extension": ".py",
   "mimetype": "text/x-python",
   "name": "python",
   "nbconvert_exporter": "python",
   "pygments_lexer": "ipython3",
   "version": "3.8.8"
  }
 },
 "nbformat": 4,
 "nbformat_minor": 5
}
