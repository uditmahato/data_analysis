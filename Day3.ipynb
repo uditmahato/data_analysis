{
 "cells": [
  {
   "cell_type": "code",
   "execution_count": 3,
   "id": "0285c1e9",
   "metadata": {},
   "outputs": [
    {
     "name": "stdout",
     "output_type": "stream",
     "text": [
      "hello ,student name is sabin\n"
     ]
    }
   ],
   "source": [
    "class sunway:\n",
    "    def __init__(bcs,name,iuklid):\n",
    "        bcs.name=name\n",
    "        bcs.iuklid=iuklid\n",
    "    def test(self):\n",
    "        print(\"hello ,student name is \"+self.name)\n",
    "p=sunway(\"sabin\",6536534)\n",
    "p.test()"
   ]
  },
  {
   "cell_type": "code",
   "execution_count": null,
   "id": "186dfe2d",
   "metadata": {},
   "outputs": [],
   "source": []
  }
 ],
 "metadata": {
  "kernelspec": {
   "display_name": "Python 3",
   "language": "python",
   "name": "python3"
  },
  "language_info": {
   "codemirror_mode": {
    "name": "ipython",
    "version": 3
   },
   "file_extension": ".py",
   "mimetype": "text/x-python",
   "name": "python",
   "nbconvert_exporter": "python",
   "pygments_lexer": "ipython3",
   "version": "3.8.8"
  }
 },
 "nbformat": 4,
 "nbformat_minor": 5
}
