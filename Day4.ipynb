{
 "cells": [
  {
   "cell_type": "markdown",
   "id": "be74a2ab",
   "metadata": {},
   "source": [
    "# NUMPY PRACTICE"
   ]
  },
  {
   "cell_type": "code",
   "execution_count": 2,
   "id": "e1c4a808",
   "metadata": {},
   "outputs": [
    {
     "data": {
      "text/plain": [
       "array([56. , 77. , 87. , 66. , 65. , 45. , 34. , 34. , 32. ,  6. ,  6.7,\n",
       "        8. ,  8.5,  4.3,  2.3,  3.5,  5.6, 81. ])"
      ]
     },
     "execution_count": 2,
     "metadata": {},
     "output_type": "execute_result"
    }
   ],
   "source": [
    "import numpy as np\n",
    "age=[56,77,87,66,65,45,34,34,32]\n",
    "height=[6,6.7,8,8.5,4.3,2.3,3.5,5.6,81]\n",
    "age_height=np.array(age+height)\n",
    "age_height"
   ]
  },
  {
   "cell_type": "code",
   "execution_count": 6,
   "id": "41e87649",
   "metadata": {},
   "outputs": [
    {
     "data": {
      "text/plain": [
       "(18,)"
      ]
     },
     "execution_count": 6,
     "metadata": {},
     "output_type": "execute_result"
    }
   ],
   "source": [
    "#checking the shape of the array\n",
    "age_height.shape"
   ]
  },
  {
   "cell_type": "code",
   "execution_count": null,
   "id": "9e4591c8",
   "metadata": {},
   "outputs": [],
   "source": []
  }
 ],
 "metadata": {
  "kernelspec": {
   "display_name": "Python 3",
   "language": "python",
   "name": "python3"
  },
  "language_info": {
   "codemirror_mode": {
    "name": "ipython",
    "version": 3
   },
   "file_extension": ".py",
   "mimetype": "text/x-python",
   "name": "python",
   "nbconvert_exporter": "python",
   "pygments_lexer": "ipython3",
   "version": "3.8.8"
  }
 },
 "nbformat": 4,
 "nbformat_minor": 5
}
